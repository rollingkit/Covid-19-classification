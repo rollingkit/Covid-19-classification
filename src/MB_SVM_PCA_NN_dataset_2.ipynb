{
  "nbformat": 4,
  "nbformat_minor": 0,
  "metadata": {
    "colab": {
      "name": "MB_SVM_PCA_NN_dataset_2.ipynb",
      "provenance": [],
      "collapsed_sections": []
    },
    "kernelspec": {
      "name": "python3",
      "display_name": "Python 3"
    },
    "accelerator": "GPU"
  },
  "cells": [
    {
      "cell_type": "code",
      "metadata": {
        "id": "eAo4M6tnJ80i"
      },
      "source": [
        "import pandas as pd\n",
        "import numpy as np\n",
        "import tensorflow as tf\n",
        "from keras.models import Model, Sequential\n",
        "from keras.layers import Convolution2D, MaxPooling2D, Flatten, Dense, Dropout, GlobalAveragePooling2D, Input\n",
        "from keras.applications import VGG16\n",
        "import seaborn as sns\n",
        "import matplotlib.pyplot as plt"
      ],
      "execution_count": null,
      "outputs": []
    },
    {
      "cell_type": "code",
      "metadata": {
        "colab": {
          "base_uri": "https://localhost:8080/",
          "height": 35
        },
        "id": "48olUWfMKdSB",
        "outputId": "afe3e080-5f9d-4bb8-a9c8-78de8a0635dd"
      },
      "source": [
        "pwd"
      ],
      "execution_count": null,
      "outputs": [
        {
          "output_type": "execute_result",
          "data": {
            "application/vnd.google.colaboratory.intrinsic+json": {
              "type": "string"
            },
            "text/plain": [
              "'/content'"
            ]
          },
          "metadata": {
            "tags": []
          },
          "execution_count": 2
        }
      ]
    },
    {
      "cell_type": "code",
      "metadata": {
        "id": "EAqnZQriKiBK",
        "colab": {
          "base_uri": "https://localhost:8080/"
        },
        "outputId": "1cb07425-b22e-4b4c-ab52-aca4e5ffa212"
      },
      "source": [
        "# from google.colab import drive\n",
        "# drive.mount('/content/drive')\n",
        "from google.colab import drive\n",
        "ROOT = '/content/drive'\n",
        "drive.mount(ROOT)"
      ],
      "execution_count": null,
      "outputs": [
        {
          "output_type": "stream",
          "text": [
            "Mounted at /content/drive\n"
          ],
          "name": "stdout"
        }
      ]
    },
    {
      "cell_type": "code",
      "metadata": {
        "id": "coWar1K9KoEk",
        "colab": {
          "base_uri": "https://localhost:8080/"
        },
        "outputId": "0ba19f2f-2460-489f-82f1-8e7f6e95810e"
      },
      "source": [
        "cd /content/drive/MyDrive/cpe_proj/COVID-Classifier/dataset/"
      ],
      "execution_count": null,
      "outputs": [
        {
          "output_type": "stream",
          "text": [
            "/content/drive/MyDrive/cpe_proj/COVID-Classifier/dataset\n"
          ],
          "name": "stdout"
        }
      ]
    },
    {
      "cell_type": "code",
      "metadata": {
        "id": "TyXa4roIK2XZ",
        "colab": {
          "base_uri": "https://localhost:8080/"
        },
        "outputId": "6d7c8c7c-2760-464c-e832-1698b710970a"
      },
      "source": [
        "ls"
      ],
      "execution_count": null,
      "outputs": [
        {
          "output_type": "stream",
          "text": [
            "\u001b[0m\u001b[01;34moriginal_images\u001b[0m/  \u001b[01;34moriginal_images_preprocessed\u001b[0m/\n"
          ],
          "name": "stdout"
        }
      ]
    },
    {
      "cell_type": "markdown",
      "metadata": {
        "id": "RKpjQXCnlfD2"
      },
      "source": [
        "# Loading and splitting data into two sets for training and test (80-20%)\n",
        "\n",
        "\n"
      ]
    },
    {
      "cell_type": "code",
      "metadata": {
        "id": "cvy_g1lzffVa"
      },
      "source": [
        "batch_size = 32 # the Size of the batches of data. Default: 32\n",
        "IMG_W, IMG_H = 224, 224"
      ],
      "execution_count": null,
      "outputs": []
    },
    {
      "cell_type": "code",
      "metadata": {
        "colab": {
          "base_uri": "https://localhost:8080/"
        },
        "id": "cl4fTUvTHLo3",
        "outputId": "76cc04ee-9b5f-4409-8b3f-c91be031025a"
      },
      "source": [
        "TRAIN_ds = tf.keras.preprocessing.image_dataset_from_directory(\n",
        "            \"original_images\",\n",
        "            labels=\"inferred\",\n",
        "            label_mode=\"categorical\",\n",
        "            class_names=None, # Only valid if \"labels\" is \"inferred\"\n",
        "            # color_mode=\"rgb\",\n",
        "            batch_size=batch_size,\n",
        "            image_size=(IMG_W, IMG_H),\n",
        "            shuffle=True,\n",
        "            seed=1337,\n",
        "            validation_split=0.2,\n",
        "            subset=\"training\",\n",
        "            follow_links=False,\n",
        "            )\n",
        "TEST_ds = tf.keras.preprocessing.image_dataset_from_directory(\n",
        "            \"original_images\",\n",
        "            labels=\"inferred\",\n",
        "            label_mode=\"categorical\",\n",
        "            class_names=None, # Only valid if \"labels\" is \"inferred\"\n",
        "            # color_mode=\"rgb\",\n",
        "            batch_size=batch_size,\n",
        "            image_size=(IMG_W, IMG_H),\n",
        "            shuffle=True,\n",
        "            seed=1337,\n",
        "            validation_split=0.2,\n",
        "            subset=\"validation\",\n",
        "            follow_links=False,\n",
        "            )"
      ],
      "execution_count": null,
      "outputs": [
        {
          "output_type": "stream",
          "text": [
            "Found 380 files belonging to 3 classes.\n",
            "Using 304 files for training.\n",
            "Found 380 files belonging to 3 classes.\n",
            "Using 76 files for validation.\n"
          ],
          "name": "stdout"
        }
      ]
    },
    {
      "cell_type": "code",
      "metadata": {
        "colab": {
          "base_uri": "https://localhost:8080/"
        },
        "id": "EyOHm-NofNTH",
        "outputId": "34a7fce7-0fd4-468b-8642-4cc89c111e98"
      },
      "source": [
        "for image_batch, labels_batch in TRAIN_ds:\n",
        "  print(image_batch.shape)\n",
        "  print(labels_batch.shape)\n",
        "  break"
      ],
      "execution_count": null,
      "outputs": [
        {
          "output_type": "stream",
          "text": [
            "(32, 224, 224, 3)\n",
            "(32, 3)\n"
          ],
          "name": "stdout"
        }
      ]
    },
    {
      "cell_type": "code",
      "metadata": {
        "colab": {
          "base_uri": "https://localhost:8080/"
        },
        "id": "45w-tGEpYGDU",
        "outputId": "fbbbc245-72eb-432a-e248-d61a048be566"
      },
      "source": [
        "type(TRAIN_ds)\n"
      ],
      "execution_count": null,
      "outputs": [
        {
          "output_type": "execute_result",
          "data": {
            "text/plain": [
              "tensorflow.python.data.ops.dataset_ops.BatchDataset"
            ]
          },
          "metadata": {
            "tags": []
          },
          "execution_count": 9
        }
      ]
    },
    {
      "cell_type": "markdown",
      "metadata": {
        "id": "thB78dH_lvuF"
      },
      "source": [
        "# using VGG16 convolutional layers as feature extractor:\n",
        "## the VGG16 here is pre-trained by IMAGENET dataset"
      ]
    },
    {
      "cell_type": "code",
      "metadata": {
        "id": "fxNK2qdMLUob",
        "colab": {
          "base_uri": "https://localhost:8080/"
        },
        "outputId": "c6029b84-5314-4457-83cc-d5774c363b2b"
      },
      "source": [
        "#Instantiate convolutional base VGG16 for feature extraction\n",
        "\n",
        "conv_base = VGG16(weights='imagenet', include_top=False, input_shape=(IMG_W, IMG_H, 3)) #include_top=False : to exclude the fully connected layers of the CNN\n",
        "\n",
        "#Show Architecture\n",
        "conv_base.summary()"
      ],
      "execution_count": null,
      "outputs": [
        {
          "output_type": "stream",
          "text": [
            "Model: \"vgg16\"\n",
            "_________________________________________________________________\n",
            "Layer (type)                 Output Shape              Param #   \n",
            "=================================================================\n",
            "input_3 (InputLayer)         [(None, 224, 224, 3)]     0         \n",
            "_________________________________________________________________\n",
            "block1_conv1 (Conv2D)        (None, 224, 224, 64)      1792      \n",
            "_________________________________________________________________\n",
            "block1_conv2 (Conv2D)        (None, 224, 224, 64)      36928     \n",
            "_________________________________________________________________\n",
            "block1_pool (MaxPooling2D)   (None, 112, 112, 64)      0         \n",
            "_________________________________________________________________\n",
            "block2_conv1 (Conv2D)        (None, 112, 112, 128)     73856     \n",
            "_________________________________________________________________\n",
            "block2_conv2 (Conv2D)        (None, 112, 112, 128)     147584    \n",
            "_________________________________________________________________\n",
            "block2_pool (MaxPooling2D)   (None, 56, 56, 128)       0         \n",
            "_________________________________________________________________\n",
            "block3_conv1 (Conv2D)        (None, 56, 56, 256)       295168    \n",
            "_________________________________________________________________\n",
            "block3_conv2 (Conv2D)        (None, 56, 56, 256)       590080    \n",
            "_________________________________________________________________\n",
            "block3_conv3 (Conv2D)        (None, 56, 56, 256)       590080    \n",
            "_________________________________________________________________\n",
            "block3_pool (MaxPooling2D)   (None, 28, 28, 256)       0         \n",
            "_________________________________________________________________\n",
            "block4_conv1 (Conv2D)        (None, 28, 28, 512)       1180160   \n",
            "_________________________________________________________________\n",
            "block4_conv2 (Conv2D)        (None, 28, 28, 512)       2359808   \n",
            "_________________________________________________________________\n",
            "block4_conv3 (Conv2D)        (None, 28, 28, 512)       2359808   \n",
            "_________________________________________________________________\n",
            "block4_pool (MaxPooling2D)   (None, 14, 14, 512)       0         \n",
            "_________________________________________________________________\n",
            "block5_conv1 (Conv2D)        (None, 14, 14, 512)       2359808   \n",
            "_________________________________________________________________\n",
            "block5_conv2 (Conv2D)        (None, 14, 14, 512)       2359808   \n",
            "_________________________________________________________________\n",
            "block5_conv3 (Conv2D)        (None, 14, 14, 512)       2359808   \n",
            "_________________________________________________________________\n",
            "block5_pool (MaxPooling2D)   (None, 7, 7, 512)         0         \n",
            "=================================================================\n",
            "Total params: 14,714,688\n",
            "Trainable params: 14,714,688\n",
            "Non-trainable params: 0\n",
            "_________________________________________________________________\n"
          ],
          "name": "stdout"
        }
      ]
    },
    {
      "cell_type": "code",
      "metadata": {
        "id": "bqxUV1l0Ly7W"
      },
      "source": [
        "# importing higher-level copy and write functions as well as ImageDataGenerator\n",
        "import os, shutil\n",
        "from keras.preprocessing.image import ImageDataGenerator\n"
      ],
      "execution_count": null,
      "outputs": []
    },
    {
      "cell_type": "code",
      "metadata": {
        "id": "B35TkkL_khfw"
      },
      "source": [
        "# Defining function for feature extraction and label creation\n",
        "\n",
        "datagen = ImageDataGenerator(rescale=1./255)\n",
        "\n",
        "def extract_features(dataSET, sample_count):\n",
        "    features = np.zeros(shape=(sample_count, 7, 7, 512))  # Must be equal to the output of the convolutional base\n",
        "    labels = np.zeros(shape=(sample_count,3)) # 3 is the number of labels in our dataset\n",
        "    \n",
        "    # Passing data through convolutional-base layers\n",
        "    i = 0\n",
        "    for inputs_batch, labels_batch in dataSET:\n",
        "        features_batch = conv_base.predict(inputs_batch) # predict function gives the features (it uses conv_base the output of VGG code from the 2-last code section)\n",
        "        features[i * batch_size: (i + 1) * batch_size] = features_batch\n",
        "        labels[i * batch_size: (i + 1) * batch_size] = labels_batch\n",
        "        i += 1\n",
        "        if i * batch_size >= sample_count:\n",
        "            break\n",
        "    return features, labels\n"
      ],
      "execution_count": null,
      "outputs": []
    },
    {
      "cell_type": "code",
      "metadata": {
        "id": "ty8F_k0jNbff"
      },
      "source": [
        "#Calling the feature extraction function on the train and test datasets\n",
        "#For running the model, train_features would be X_train and train_labels would be y_train\n",
        "\n",
        "train_features, train_labels = extract_features(TRAIN_ds,304) # Total no. of files in train folder\n",
        "test_features, test_labels = extract_features(TEST_ds,76)"
      ],
      "execution_count": null,
      "outputs": []
    },
    {
      "cell_type": "code",
      "metadata": {
        "colab": {
          "base_uri": "https://localhost:8080/"
        },
        "id": "BqWUCMWHzJ4I",
        "outputId": "3c99f165-b0d7-4c9a-8a68-abf5bbb4c798"
      },
      "source": [
        "train_labels.shape, train_features.shape"
      ],
      "execution_count": null,
      "outputs": [
        {
          "output_type": "execute_result",
          "data": {
            "text/plain": [
              "((304, 3), (304, 7, 7, 512))"
            ]
          },
          "metadata": {
            "tags": []
          },
          "execution_count": 22
        }
      ]
    },
    {
      "cell_type": "code",
      "metadata": {
        "id": "rRUoJRXnG7t6",
        "colab": {
          "base_uri": "https://localhost:8080/"
        },
        "outputId": "61e38730-627a-4a99-9394-2d7d528e2554"
      },
      "source": [
        "test_labels.shape, test_features.shape"
      ],
      "execution_count": null,
      "outputs": [
        {
          "output_type": "execute_result",
          "data": {
            "text/plain": [
              "((76, 3), (76, 7, 7, 512))"
            ]
          },
          "metadata": {
            "tags": []
          },
          "execution_count": 18
        }
      ]
    },
    {
      "cell_type": "code",
      "metadata": {
        "id": "ACv1K99hLPSq",
        "colab": {
          "base_uri": "https://localhost:8080/"
        },
        "outputId": "23f781cb-52a0-418b-d013-c63c9936f7df"
      },
      "source": [
        "#train_features[0].shape\n",
        "train_labels.shape"
      ],
      "execution_count": null,
      "outputs": [
        {
          "output_type": "execute_result",
          "data": {
            "text/plain": [
              "(304, 3)"
            ]
          },
          "metadata": {
            "tags": []
          },
          "execution_count": 20
        }
      ]
    },
    {
      "cell_type": "code",
      "metadata": {
        "id": "7PKzqWO_rTFw"
      },
      "source": [
        "# reshaping data as features x and their corresponding lables y for SVM\n",
        "x_train = (train_features.reshape(train_features.shape[0],-1))\n",
        "y_train = (np.argmax(train_labels, axis=1, out=None))\n",
        "\n",
        "# testing data\n",
        "x_test = (test_features.reshape(test_features.shape[0],-1))\n",
        "y_test = (np.argmax(test_labels, axis=1, out=None))"
      ],
      "execution_count": null,
      "outputs": []
    },
    {
      "cell_type": "code",
      "metadata": {
        "colab": {
          "base_uri": "https://localhost:8080/"
        },
        "id": "wQJT0qsymN17",
        "outputId": "440f5d6b-86c4-41c0-d3a3-9c4ef010b6b5"
      },
      "source": [
        "x_train.shape, y_train.shape,  x_test.shape, y_test.shape"
      ],
      "execution_count": null,
      "outputs": [
        {
          "output_type": "execute_result",
          "data": {
            "text/plain": [
              "((304, 25088), (304,), (76, 25088), (76,))"
            ]
          },
          "metadata": {
            "tags": []
          },
          "execution_count": 24
        }
      ]
    },
    {
      "cell_type": "markdown",
      "metadata": {
        "id": "f41qSHKUmYUL"
      },
      "source": [
        "## 304 componets with 25088 features => the curse of dimensionality \n",
        "addressed by Principal Component Analysis (PCA)"
      ]
    },
    {
      "cell_type": "code",
      "metadata": {
        "colab": {
          "base_uri": "https://localhost:8080/",
          "height": 295
        },
        "id": "_No0slf43FTm",
        "outputId": "a671f5d1-f03b-4240-ef47-aa5ec90f9b8d"
      },
      "source": [
        "# dimension reduction using PCA analysis\n",
        "\n",
        "from sklearn.decomposition import PCA\n",
        "fig, ax = plt.subplots()\n",
        "\n",
        "plt.ylim(0.0,1.1)\n",
        "\n",
        "plt.title('The number of components needed to explain variance')\n",
        "\n",
        "plt.axhline(y=0.9, color='r', linestyle='-')\n",
        "plt.text(0.5, 0.95, '90% cut-off threshold', color = 'red', fontsize=16)\n",
        "\n",
        "pca_chk = PCA() #\n",
        "pca_chk.fit(x_train)\n",
        "plt.plot(np.cumsum(pca_chk.explained_variance_ratio_))\n",
        "\n",
        "plt.xlabel(\"Number of components\")\n",
        "plt.ylabel(\"Cumulative variance (%)\")\n",
        "plt.title('The number of components needed to explain variance')\n",
        "\n",
        "plt.show()"
      ],
      "execution_count": null,
      "outputs": [
        {
          "output_type": "display_data",
          "data": {
            "image/png": "[encoded data removed]",
            "text/plain": [
              "<Figure size 432x288 with 1 Axes>"
            ]
          },
          "metadata": {
            "tags": [],
            "needs_background": "light"
          }
        }
      ]
    },
    {
      "cell_type": "markdown",
      "metadata": {
        "id": "707OgSGLP0VF"
      },
      "source": [
        "the above result shows 200 components are able to represent 90 percent of features"
      ]
    },
    {
      "cell_type": "code",
      "metadata": {
        "id": "pTpLtijlYJyY"
      },
      "source": [
        "# do NOT run this:\n",
        "# another version of dimension reduction which takes a sheer amount of time\n",
        "\n",
        "import numpy as np\n",
        "import matplotlib.pyplot as plt\n",
        "from sklearn.datasets import load_digits\n",
        "from sklearn.model_selection import GridSearchCV\n",
        "from sklearn.pipeline import Pipeline\n",
        "from sklearn.svm import LinearSVC\n",
        "from sklearn.decomposition import PCA, NMF\n",
        "from sklearn.feature_selection import SelectKBest, chi2\n",
        "\n",
        "print(__doc__)\n",
        "\n",
        "pipe = Pipeline([\n",
        "    # the reduce_dim stage is populated by the param_grid\n",
        "    ('reduce_dim', 'passthrough'),\n",
        "    ('classify', LinearSVC(dual=False, max_iter=10000))\n",
        "])\n",
        "\n",
        "N_FEATURES_OPTIONS = [100, 200]\n",
        "C_OPTIONS = [1, 10]\n",
        "param_grid = [\n",
        "    {\n",
        "        'reduce_dim': [PCA(iterated_power=7), NMF()],\n",
        "        'reduce_dim__n_components': N_FEATURES_OPTIONS,\n",
        "        'classify__C': C_OPTIONS\n",
        "    },\n",
        "    {\n",
        "        'reduce_dim': [SelectKBest(chi2)],\n",
        "        'reduce_dim__k': N_FEATURES_OPTIONS,\n",
        "        'classify__C': C_OPTIONS\n",
        "    },\n",
        "]\n",
        "reducer_labels = ['PCA', 'NMF', 'KBest(chi2)']\n",
        "\n",
        "grid = GridSearchCV(pipe, n_jobs=1, param_grid=param_grid)\n",
        "\n",
        "grid.fit(x_train, y_train)\n",
        "\n",
        "mean_scores = np.array(grid.cv_results_['mean_test_score'])\n",
        "# scores are in the order of param_grid iteration, which is alphabetical\n",
        "mean_scores = mean_scores.reshape(len(C_OPTIONS), -1, len(N_FEATURES_OPTIONS))\n",
        "# select score for best C\n",
        "mean_scores = mean_scores.max(axis=0)\n",
        "bar_offsets = (np.arange(len(N_FEATURES_OPTIONS)) *\n",
        "               (len(reducer_labels) + 1) + .5)\n",
        "\n",
        "plt.figure()\n",
        "COLORS = 'bgrcmyk'\n",
        "for i, (label, reducer_scores) in enumerate(zip(reducer_labels, mean_scores)):\n",
        "    plt.bar(bar_offsets + i, reducer_scores, label=label, color=COLORS[i])\n",
        "\n",
        "plt.title(\"Comparing feature reduction techniques\")\n",
        "plt.xlabel('Reduced number of features')\n",
        "plt.xticks(bar_offsets + len(reducer_labels) / 2, N_FEATURES_OPTIONS)\n",
        "plt.ylabel('Digit classification accuracy')\n",
        "plt.ylim((0, 1))\n",
        "plt.legend(loc='upper left')\n",
        "\n",
        "plt.show()"
      ],
      "execution_count": null,
      "outputs": []
    },
    {
      "cell_type": "markdown",
      "metadata": {
        "id": "j8t7LHBW3JZF"
      },
      "source": [
        "# appying the *PCA*"
      ]
    },
    {
      "cell_type": "code",
      "metadata": {
        "id": "r58daxbJsCYM"
      },
      "source": [
        "# dimension reduction using PCA analysis (cont'd)\n",
        "n_pca_components=200\n",
        "pca = PCA(n_components=n_pca_components)\n",
        "train_pca = pca.fit_transform(x_train)\n",
        "test_pca = pca.transform(x_test)\n",
        "# train_pca = pca.transform(x_train)\n",
        "# x_te = pca.transform(x_test)"
      ],
      "execution_count": null,
      "outputs": []
    },
    {
      "cell_type": "markdown",
      "metadata": {
        "id": "G4md01Mvmsif"
      },
      "source": [
        "# SVM for classification after appying the PCA"
      ]
    },
    {
      "cell_type": "code",
      "metadata": {
        "colab": {
          "base_uri": "https://localhost:8080/"
        },
        "id": "OiQT5HcmV7j5",
        "outputId": "31ab731c-e8ef-4648-988d-4567755f5718"
      },
      "source": [
        "\n",
        "# a grid search is performed on a set of parameters and kernels to select the best classifier\n",
        "\n",
        "from sklearn import svm\n",
        "from sklearn.model_selection import GridSearchCV\n",
        "\n",
        "param_grid = [\n",
        "  {'C': [1, 10, 100], 'kernel': ['linear']},\n",
        "  {'C': [1, 10, 100], 'gamma': [0.001, 0.0001] , 'degree': [1,2,3], 'kernel': ['poly']},\n",
        " ]\n",
        "\n",
        "# C dentos the regularization parameter  and gamma denotes  th Kernel coeff.\n",
        "svc = svm.SVC()\n",
        "clf = GridSearchCV(svc, param_grid, refit=True)\n",
        "clf.fit(pca.transform(x_train), y_train) # pca.transform(x_train) transforms data into the principal components\n"
      ],
      "execution_count": null,
      "outputs": [
        {
          "output_type": "execute_result",
          "data": {
            "text/plain": [
              "GridSearchCV(cv=None, error_score=nan,\n",
              "             estimator=SVC(C=1.0, break_ties=False, cache_size=200,\n",
              "                           class_weight=None, coef0=0.0,\n",
              "                           decision_function_shape='ovr', degree=3,\n",
              "                           gamma='scale', kernel='rbf', max_iter=-1,\n",
              "                           probability=False, random_state=None, shrinking=True,\n",
              "                           tol=0.001, verbose=False),\n",
              "             iid='deprecated', n_jobs=None,\n",
              "             param_grid=[{'C': [1, 10, 100], 'kernel': ['linear']},\n",
              "                         {'C': [1, 10, 100], 'degree': [1, 2, 3],\n",
              "                          'gamma': [0.001, 0.0001], 'kernel': ['poly']}],\n",
              "             pre_dispatch='2*n_jobs', refit=True, return_train_score=False,\n",
              "             scoring=None, verbose=0)"
            ]
          },
          "metadata": {
            "tags": []
          },
          "execution_count": 49
        }
      ]
    },
    {
      "cell_type": "code",
      "metadata": {
        "colab": {
          "base_uri": "https://localhost:8080/"
        },
        "id": "wqrmglj8WOHN",
        "outputId": "308c5a49-2f47-4d10-a96e-c09b448c52aa"
      },
      "source": [
        "clf.cv_results_"
      ],
      "execution_count": null,
      "outputs": [
        {
          "output_type": "execute_result",
          "data": {
            "text/plain": [
              "{'mean_fit_time': array([0.00910587, 0.00900807, 0.00786819, 0.00791092, 0.00747228,\n",
              "        0.02054524, 0.02048044, 0.02089744, 0.02111902, 0.0074132 ,\n",
              "        0.00743427, 0.02046509, 0.02143264, 0.0214283 , 0.02096939,\n",
              "        0.00746512, 0.0074554 , 0.02059984, 0.020608  , 0.02080526,\n",
              "        0.02095528]),\n",
              " 'mean_score_time': array([0.00239468, 0.00243325, 0.00200706, 0.00213943, 0.00195723,\n",
              "        0.00356517, 0.0036088 , 0.00363836, 0.00364885, 0.00191774,\n",
              "        0.001929  , 0.00358272, 0.00361567, 0.00363331, 0.00363359,\n",
              "        0.0019381 , 0.0019423 , 0.00358276, 0.0036057 , 0.00366545,\n",
              "        0.00367169]),\n",
              " 'mean_test_score': array([0.95715847, 0.95715847, 0.95715847, 0.95715847, 0.95715847,\n",
              "        0.90453552, 0.90453552, 0.79923497, 0.79923497, 0.95715847,\n",
              "        0.95715847, 0.90453552, 0.90453552, 0.79923497, 0.79923497,\n",
              "        0.95715847, 0.95715847, 0.90453552, 0.90453552, 0.79923497,\n",
              "        0.79923497]),\n",
              " 'param_C': masked_array(data=[1, 10, 100, 1, 1, 1, 1, 1, 1, 10, 10, 10, 10, 10, 10,\n",
              "                    100, 100, 100, 100, 100, 100],\n",
              "              mask=[False, False, False, False, False, False, False, False,\n",
              "                    False, False, False, False, False, False, False, False,\n",
              "                    False, False, False, False, False],\n",
              "        fill_value='?',\n",
              "             dtype=object),\n",
              " 'param_degree': masked_array(data=[--, --, --, 1, 1, 2, 2, 3, 3, 1, 1, 2, 2, 3, 3, 1, 1,\n",
              "                    2, 2, 3, 3],\n",
              "              mask=[ True,  True,  True, False, False, False, False, False,\n",
              "                    False, False, False, False, False, False, False, False,\n",
              "                    False, False, False, False, False],\n",
              "        fill_value='?',\n",
              "             dtype=object),\n",
              " 'param_gamma': masked_array(data=[--, --, --, 0.001, 0.0001, 0.001, 0.0001, 0.001,\n",
              "                    0.0001, 0.001, 0.0001, 0.001, 0.0001, 0.001, 0.0001,\n",
              "                    0.001, 0.0001, 0.001, 0.0001, 0.001, 0.0001],\n",
              "              mask=[ True,  True,  True, False, False, False, False, False,\n",
              "                    False, False, False, False, False, False, False, False,\n",
              "                    False, False, False, False, False],\n",
              "        fill_value='?',\n",
              "             dtype=object),\n",
              " 'param_kernel': masked_array(data=['linear', 'linear', 'linear', 'poly', 'poly', 'poly',\n",
              "                    'poly', 'poly', 'poly', 'poly', 'poly', 'poly', 'poly',\n",
              "                    'poly', 'poly', 'poly', 'poly', 'poly', 'poly', 'poly',\n",
              "                    'poly'],\n",
              "              mask=[False, False, False, False, False, False, False, False,\n",
              "                    False, False, False, False, False, False, False, False,\n",
              "                    False, False, False, False, False],\n",
              "        fill_value='?',\n",
              "             dtype=object),\n",
              " 'params': [{'C': 1, 'kernel': 'linear'},\n",
              "  {'C': 10, 'kernel': 'linear'},\n",
              "  {'C': 100, 'kernel': 'linear'},\n",
              "  {'C': 1, 'degree': 1, 'gamma': 0.001, 'kernel': 'poly'},\n",
              "  {'C': 1, 'degree': 1, 'gamma': 0.0001, 'kernel': 'poly'},\n",
              "  {'C': 1, 'degree': 2, 'gamma': 0.001, 'kernel': 'poly'},\n",
              "  {'C': 1, 'degree': 2, 'gamma': 0.0001, 'kernel': 'poly'},\n",
              "  {'C': 1, 'degree': 3, 'gamma': 0.001, 'kernel': 'poly'},\n",
              "  {'C': 1, 'degree': 3, 'gamma': 0.0001, 'kernel': 'poly'},\n",
              "  {'C': 10, 'degree': 1, 'gamma': 0.001, 'kernel': 'poly'},\n",
              "  {'C': 10, 'degree': 1, 'gamma': 0.0001, 'kernel': 'poly'},\n",
              "  {'C': 10, 'degree': 2, 'gamma': 0.001, 'kernel': 'poly'},\n",
              "  {'C': 10, 'degree': 2, 'gamma': 0.0001, 'kernel': 'poly'},\n",
              "  {'C': 10, 'degree': 3, 'gamma': 0.001, 'kernel': 'poly'},\n",
              "  {'C': 10, 'degree': 3, 'gamma': 0.0001, 'kernel': 'poly'},\n",
              "  {'C': 100, 'degree': 1, 'gamma': 0.001, 'kernel': 'poly'},\n",
              "  {'C': 100, 'degree': 1, 'gamma': 0.0001, 'kernel': 'poly'},\n",
              "  {'C': 100, 'degree': 2, 'gamma': 0.001, 'kernel': 'poly'},\n",
              "  {'C': 100, 'degree': 2, 'gamma': 0.0001, 'kernel': 'poly'},\n",
              "  {'C': 100, 'degree': 3, 'gamma': 0.001, 'kernel': 'poly'},\n",
              "  {'C': 100, 'degree': 3, 'gamma': 0.0001, 'kernel': 'poly'}],\n",
              " 'rank_test_score': array([ 1,  1,  1,  1,  1, 10, 10, 16, 16,  1,  1, 10, 10, 16, 16,  1,  1,\n",
              "        10, 10, 16, 16], dtype=int32),\n",
              " 'split0_test_score': array([0.95081967, 0.95081967, 0.95081967, 0.95081967, 0.95081967,\n",
              "        0.8852459 , 0.8852459 , 0.83606557, 0.83606557, 0.95081967,\n",
              "        0.95081967, 0.8852459 , 0.8852459 , 0.83606557, 0.83606557,\n",
              "        0.95081967, 0.95081967, 0.8852459 , 0.8852459 , 0.83606557,\n",
              "        0.83606557]),\n",
              " 'split1_test_score': array([0.96721311, 0.96721311, 0.96721311, 0.96721311, 0.96721311,\n",
              "        0.95081967, 0.95081967, 0.85245902, 0.85245902, 0.96721311,\n",
              "        0.96721311, 0.95081967, 0.95081967, 0.85245902, 0.85245902,\n",
              "        0.96721311, 0.96721311, 0.95081967, 0.95081967, 0.85245902,\n",
              "        0.85245902]),\n",
              " 'split2_test_score': array([0.95081967, 0.95081967, 0.95081967, 0.95081967, 0.95081967,\n",
              "        0.86885246, 0.86885246, 0.7704918 , 0.7704918 , 0.95081967,\n",
              "        0.95081967, 0.86885246, 0.86885246, 0.7704918 , 0.7704918 ,\n",
              "        0.95081967, 0.95081967, 0.86885246, 0.86885246, 0.7704918 ,\n",
              "        0.7704918 ]),\n",
              " 'split3_test_score': array([0.98360656, 0.98360656, 0.98360656, 0.98360656, 0.98360656,\n",
              "        0.93442623, 0.93442623, 0.7704918 , 0.7704918 , 0.98360656,\n",
              "        0.98360656, 0.93442623, 0.93442623, 0.7704918 , 0.7704918 ,\n",
              "        0.98360656, 0.98360656, 0.93442623, 0.93442623, 0.7704918 ,\n",
              "        0.7704918 ]),\n",
              " 'split4_test_score': array([0.93333333, 0.93333333, 0.93333333, 0.93333333, 0.93333333,\n",
              "        0.88333333, 0.88333333, 0.76666667, 0.76666667, 0.93333333,\n",
              "        0.93333333, 0.88333333, 0.88333333, 0.76666667, 0.76666667,\n",
              "        0.93333333, 0.93333333, 0.88333333, 0.88333333, 0.76666667,\n",
              "        0.76666667]),\n",
              " 'std_fit_time': array([2.12328225e-04, 1.14217042e-04, 7.00895729e-04, 7.13555850e-04,\n",
              "        1.52954763e-04, 1.27123123e-04, 1.23237399e-04, 1.91983748e-04,\n",
              "        2.67224606e-04, 7.69786213e-05, 9.88888991e-05, 4.59225130e-05,\n",
              "        1.02233722e-03, 9.00258899e-04, 3.49130158e-04, 8.10812479e-05,\n",
              "        1.45333943e-04, 1.51112020e-04, 1.65216224e-04, 8.64923458e-05,\n",
              "        1.08762720e-04]),\n",
              " 'std_score_time': array([1.37843965e-04, 2.44376248e-04, 1.69880986e-04, 4.19135132e-04,\n",
              "        2.83938010e-05, 3.85686103e-05, 7.84275515e-05, 4.67172917e-05,\n",
              "        3.29592796e-05, 3.55953749e-05, 4.14693190e-05, 5.95006035e-05,\n",
              "        5.95795388e-05, 1.81795691e-05, 3.52738978e-05, 4.85974035e-05,\n",
              "        3.09913340e-05, 5.38149130e-05, 6.48660850e-05, 9.33425027e-05,\n",
              "        6.51690747e-05]),\n",
              " 'std_test_score': array([0.01702113, 0.01702113, 0.01702113, 0.01702113, 0.01702113,\n",
              "        0.03203305, 0.03203305, 0.03715461, 0.03715461, 0.01702113,\n",
              "        0.01702113, 0.03203305, 0.03203305, 0.03715461, 0.03715461,\n",
              "        0.01702113, 0.01702113, 0.03203305, 0.03203305, 0.03715461,\n",
              "        0.03715461])}"
            ]
          },
          "metadata": {
            "tags": []
          },
          "execution_count": 50
        }
      ]
    },
    {
      "cell_type": "code",
      "metadata": {
        "colab": {
          "base_uri": "https://localhost:8080/"
        },
        "id": "wO06cUkvWRFp",
        "outputId": "0e4d828e-e26a-42ac-e2bd-909422dc32dc"
      },
      "source": [
        "clf.best_estimator_"
      ],
      "execution_count": null,
      "outputs": [
        {
          "output_type": "execute_result",
          "data": {
            "text/plain": [
              "SVC(C=1, break_ties=False, cache_size=200, class_weight=None, coef0=0.0,\n",
              "    decision_function_shape='ovr', degree=3, gamma='scale', kernel='linear',\n",
              "    max_iter=-1, probability=False, random_state=None, shrinking=True,\n",
              "    tol=0.001, verbose=False)"
            ]
          },
          "metadata": {
            "tags": []
          },
          "execution_count": 51
        }
      ]
    },
    {
      "cell_type": "markdown",
      "metadata": {
        "id": "VYrTT8l2nITJ"
      },
      "source": [
        "the best estimator is a linear kernel with tuning parameter C = 1\n",
        "\n",
        "The smaller the value of C, the more sensitive the algorithm is to the training data (higher variance and lower bias).\n",
        "\n",
        "The larger the value of C, the less sensitive the algorithm is to the training data (lower variance and higher bias).\n",
        "\n",
        "Ref. https://machinelearningmastery.com/support-vector-machines-for-machine-learning/"
      ]
    },
    {
      "cell_type": "code",
      "metadata": {
        "colab": {
          "base_uri": "https://localhost:8080/"
        },
        "id": "CvEkLai9W84W",
        "outputId": "736e5c6f-c45e-4df6-d67c-f483b7b040ab"
      },
      "source": [
        "y_pred_train = clf.predict(pca.transform(x_train))\n",
        "y_pred_test = clf.predict(pca.transform(x_test))\n",
        "y_pred_test.shape"
      ],
      "execution_count": null,
      "outputs": [
        {
          "output_type": "execute_result",
          "data": {
            "text/plain": [
              "(76,)"
            ]
          },
          "metadata": {
            "tags": []
          },
          "execution_count": 52
        }
      ]
    },
    {
      "cell_type": "code",
      "metadata": {
        "colab": {
          "base_uri": "https://localhost:8080/",
          "height": 299
        },
        "id": "epBXYQHRXEzd",
        "outputId": "5a83ef33-65e1-460b-803a-c481c55b3122"
      },
      "source": [
        "# Print overall accuracy of TRAIN\n",
        "# from sklearn.metrics import accuracy_score\n",
        "\n",
        "from sklearn import metrics\n",
        "print (\"Accuracy on training set = \", metrics.accuracy_score(y_train, y_pred_train))\n",
        "\n",
        "# Confusion Matrix - verify accuracy of each class\n",
        "from sklearn.metrics import confusion_matrix\n",
        "\n",
        "fig100 = plt.figure()\n",
        "# fig100 = plt.figure(figsize=(10,10))\n",
        "categories = ['COVID-19','Normal','Pneumonia']\n",
        "cm = confusion_matrix(y_train, y_pred_train)\n",
        "#print(cm)\n",
        "sns.heatmap(cm, xticklabels =categories , yticklabels =categories, annot=True, fmt='d')"
      ],
      "execution_count": null,
      "outputs": [
        {
          "output_type": "stream",
          "text": [
            "Accuracy on training set =  1.0\n"
          ],
          "name": "stdout"
        },
        {
          "output_type": "execute_result",
          "data": {
            "text/plain": [
              "<matplotlib.axes._subplots.AxesSubplot at 0x7f31bf3a4550>"
            ]
          },
          "metadata": {
            "tags": []
          },
          "execution_count": 54
        },
        {
          "output_type": "display_data",
          "data": {
            "image/png": "[encoded data removed]",
            "text/plain": [
              "<Figure size 432x288 with 2 Axes>"
            ]
          },
          "metadata": {
            "tags": [],
            "needs_background": "light"
          }
        }
      ]
    },
    {
      "cell_type": "code",
      "metadata": {
        "colab": {
          "base_uri": "https://localhost:8080/",
          "height": 299
        },
        "id": "OYVqTgAfXTc-",
        "outputId": "faf4e855-e032-4d57-fdb0-f7d4a5107199"
      },
      "source": [
        "# Print overall accuracy of TEST\n",
        "\n",
        "print (\"Accuracy on testing set = \", metrics.accuracy_score(y_test, y_pred_test))\n",
        "\n",
        "# Confusion Matrix - verify accuracy of each class\n",
        "from sklearn.metrics import confusion_matrix\n",
        "\n",
        "fig100 = plt.figure()\n",
        "categories = ['COVID-19','Normal','Pneumonia']\n",
        "cm = confusion_matrix(y_test, y_pred_test)\n",
        "#print(cm)\n",
        "sns.heatmap(cm, xticklabels =categories , yticklabels =categories, annot=True)\n"
      ],
      "execution_count": null,
      "outputs": [
        {
          "output_type": "stream",
          "text": [
            "Accuracy on testing set =  1.0\n"
          ],
          "name": "stdout"
        },
        {
          "output_type": "execute_result",
          "data": {
            "text/plain": [
              "<matplotlib.axes._subplots.AxesSubplot at 0x7f31bf44cac8>"
            ]
          },
          "metadata": {
            "tags": []
          },
          "execution_count": 55
        },
        {
          "output_type": "display_data",
          "data": {
            "image/png": "[encoded data removed]",
            "text/plain": [
              "<Figure size 432x288 with 2 Axes>"
            ]
          },
          "metadata": {
            "tags": [],
            "needs_background": "light"
          }
        }
      ]
    },
    {
      "cell_type": "markdown",
      "metadata": {
        "id": "o4d8EzKTXhZK"
      },
      "source": [
        "# PCA and fully-connected NN layers for classification\n",
        "\n",
        "two FC layers, 256 and 3 neurons\n"
      ]
    },
    {
      "cell_type": "code",
      "metadata": {
        "colab": {
          "base_uri": "https://localhost:8080/"
        },
        "id": "qRYH8U0tHXb3",
        "outputId": "5cc52f25-370e-4ee7-9479-ff8e2443a9f0"
      },
      "source": [
        "#Add hidden dense layers and final output/classifier layer .\n",
        "model = Sequential()\n",
        "inputs = Input(shape=(n_pca_components,)) #Shape = n_components\n",
        "hidden = Dense(256, activation='relu')(inputs)\n",
        "#hidden1 = Dense(512, activation='relu')(inputs)\n",
        "#hidden2 = Dense(256, activation='relu')(hidden1)\n",
        "output = Dense(3, activation='relu')(hidden)\n",
        "model = Model(inputs=inputs, outputs=output)\n",
        "\n",
        "print(model.summary())\n",
        "#\n",
        "model.compile(loss='categorical_crossentropy', optimizer='adam', metrics=['categorical_accuracy'])\n",
        "\n",
        "#Fit the model. Do not forget to use categorial Y values. \n",
        "hist = model.fit(train_pca, train_labels, epochs=20, verbose=1, validation_data=(test_pca, test_labels))"
      ],
      "execution_count": null,
      "outputs": [
        {
          "output_type": "stream",
          "text": [
            "Model: \"functional_35\"\n",
            "_________________________________________________________________\n",
            "Layer (type)                 Output Shape              Param #   \n",
            "=================================================================\n",
            "input_21 (InputLayer)        [(None, 200)]             0         \n",
            "_________________________________________________________________\n",
            "dense_34 (Dense)             (None, 256)               51456     \n",
            "_________________________________________________________________\n",
            "dense_35 (Dense)             (None, 3)                 771       \n",
            "=================================================================\n",
            "Total params: 52,227\n",
            "Trainable params: 52,227\n",
            "Non-trainable params: 0\n",
            "_________________________________________________________________\n",
            "None\n",
            "Epoch 1/20\n",
            "10/10 [==============================] - 0s 11ms/step - loss: 5.8593 - categorical_accuracy: 0.4375 - val_loss: 4.2782 - val_categorical_accuracy: 0.5395\n",
            "Epoch 2/20\n",
            "10/10 [==============================] - 0s 4ms/step - loss: 4.4690 - categorical_accuracy: 0.5592 - val_loss: 3.5438 - val_categorical_accuracy: 0.6316\n",
            "Epoch 3/20\n",
            "10/10 [==============================] - 0s 4ms/step - loss: 3.6112 - categorical_accuracy: 0.6349 - val_loss: 2.2723 - val_categorical_accuracy: 0.7105\n",
            "Epoch 4/20\n",
            "10/10 [==============================] - 0s 4ms/step - loss: 3.0864 - categorical_accuracy: 0.6776 - val_loss: 1.5923 - val_categorical_accuracy: 0.7105\n",
            "Epoch 5/20\n",
            "10/10 [==============================] - 0s 4ms/step - loss: 2.3634 - categorical_accuracy: 0.7007 - val_loss: 1.3714 - val_categorical_accuracy: 0.7500\n",
            "Epoch 6/20\n",
            "10/10 [==============================] - 0s 3ms/step - loss: 1.8179 - categorical_accuracy: 0.7138 - val_loss: 1.0935 - val_categorical_accuracy: 0.7500\n",
            "Epoch 7/20\n",
            "10/10 [==============================] - 0s 4ms/step - loss: 1.4885 - categorical_accuracy: 0.7138 - val_loss: 1.0658 - val_categorical_accuracy: 0.7368\n",
            "Epoch 8/20\n",
            "10/10 [==============================] - 0s 4ms/step - loss: 1.3793 - categorical_accuracy: 0.7138 - val_loss: 0.9222 - val_categorical_accuracy: 0.7237\n",
            "Epoch 9/20\n",
            "10/10 [==============================] - 0s 4ms/step - loss: 1.3785 - categorical_accuracy: 0.7105 - val_loss: 0.9222 - val_categorical_accuracy: 0.7237\n",
            "Epoch 10/20\n",
            "10/10 [==============================] - 0s 4ms/step - loss: 1.3785 - categorical_accuracy: 0.7105 - val_loss: 0.9222 - val_categorical_accuracy: 0.7237\n",
            "Epoch 11/20\n",
            "10/10 [==============================] - 0s 4ms/step - loss: 1.3785 - categorical_accuracy: 0.7105 - val_loss: 0.9222 - val_categorical_accuracy: 0.7237\n",
            "Epoch 12/20\n",
            "10/10 [==============================] - 0s 4ms/step - loss: 1.3785 - categorical_accuracy: 0.7105 - val_loss: 0.9222 - val_categorical_accuracy: 0.7237\n",
            "Epoch 13/20\n",
            "10/10 [==============================] - 0s 4ms/step - loss: 1.3785 - categorical_accuracy: 0.7105 - val_loss: 0.9222 - val_categorical_accuracy: 0.7237\n",
            "Epoch 14/20\n",
            "10/10 [==============================] - 0s 5ms/step - loss: 1.3785 - categorical_accuracy: 0.7105 - val_loss: 0.9222 - val_categorical_accuracy: 0.7237\n",
            "Epoch 15/20\n",
            "10/10 [==============================] - 0s 4ms/step - loss: 1.3785 - categorical_accuracy: 0.7105 - val_loss: 0.9222 - val_categorical_accuracy: 0.7237\n",
            "Epoch 16/20\n",
            "10/10 [==============================] - 0s 4ms/step - loss: 1.3785 - categorical_accuracy: 0.7105 - val_loss: 0.9222 - val_categorical_accuracy: 0.7237\n",
            "Epoch 17/20\n",
            "10/10 [==============================] - 0s 4ms/step - loss: 1.3785 - categorical_accuracy: 0.7105 - val_loss: 0.9222 - val_categorical_accuracy: 0.7237\n",
            "Epoch 18/20\n",
            "10/10 [==============================] - 0s 4ms/step - loss: 1.3785 - categorical_accuracy: 0.7105 - val_loss: 0.9222 - val_categorical_accuracy: 0.7237\n",
            "Epoch 19/20\n",
            "10/10 [==============================] - 0s 4ms/step - loss: 1.3785 - categorical_accuracy: 0.7105 - val_loss: 0.9222 - val_categorical_accuracy: 0.7237\n",
            "Epoch 20/20\n",
            "10/10 [==============================] - 0s 4ms/step - loss: 1.3785 - categorical_accuracy: 0.7105 - val_loss: 0.9222 - val_categorical_accuracy: 0.7237\n"
          ],
          "name": "stdout"
        }
      ]
    },
    {
      "cell_type": "code",
      "metadata": {
        "id": "4yfIbTWvIwhM"
      },
      "source": [
        "##Predict on test dataset\n",
        "predict_test = model.predict(test_pca)\n",
        "predict_test = np.argmax(predict_test, axis=1)\n",
        "# predict_test = le.inverse_transform(predict_test)\n",
        "#"
      ],
      "execution_count": null,
      "outputs": []
    },
    {
      "cell_type": "code",
      "metadata": {
        "colab": {
          "base_uri": "https://localhost:8080/",
          "height": 299
        },
        "id": "gqy-0htHR9Kj",
        "outputId": "62ad0132-1b8f-48d4-a1e0-9a98322e6787"
      },
      "source": [
        "from sklearn import metrics\n",
        "print (\"Accuracy on training set = \", metrics.accuracy_score(y_train, predict_train))\n",
        "\n",
        "# Confusion Matrix - verify accuracy of each class\n",
        "from sklearn.metrics import confusion_matrix\n",
        "\n",
        "predict_train = model.predict(pca.transform(x_train))\n",
        "predict_train = np.argmax(predict_train, axis=1)\n",
        "fig100 = plt.figure()\n",
        "categories = ['COVID-19','Normal','Pneumonia']\n",
        "cm = confusion_matrix(y_train, predict_train)\n",
        "#print(cm)\n",
        "sns.heatmap(cm, xticklabels =categories , yticklabels =categories, annot=True, fmt='d')"
      ],
      "execution_count": null,
      "outputs": [
        {
          "output_type": "stream",
          "text": [
            "Accuracy on training set =  0.7105263157894737\n"
          ],
          "name": "stdout"
        },
        {
          "output_type": "execute_result",
          "data": {
            "text/plain": [
              "<matplotlib.axes._subplots.AxesSubplot at 0x7f2f913be748>"
            ]
          },
          "metadata": {
            "tags": []
          },
          "execution_count": 169
        },
        {
          "output_type": "display_data",
          "data": {
            "image/png": "[encoded data removed]",
            "text/plain": [
              "<Figure size 432x288 with 2 Axes>"
            ]
          },
          "metadata": {
            "tags": [],
            "needs_background": "light"
          }
        }
      ]
    },
    {
      "cell_type": "code",
      "metadata": {
        "colab": {
          "base_uri": "https://localhost:8080/",
          "height": 303
        },
        "id": "LL_P5hZ9JEAi",
        "outputId": "2d4d01bd-f272-4daa-db46-928be7e805b5"
      },
      "source": [
        "\n",
        "print (\"Accuracy on testing set = \", metrics.accuracy_score(y_test, predict_test))\n",
        "\n",
        "# Confusion Matrix - verify accuracy of each class\n",
        "\n",
        "fig100 = plt.figure()\n",
        "categories = ['COVID-19','Normal','Pneumonia']\n",
        "cm = confusion_matrix(y_test, predict_test)\n",
        "#print(cm)\n",
        "sns.heatmap(cm, xticklabels =categories , yticklabels =categories, annot=True)"
      ],
      "execution_count": null,
      "outputs": [
        {
          "output_type": "stream",
          "text": [
            "Accuracy on testing set =  0.7236842105263158\n"
          ],
          "name": "stdout"
        },
        {
          "output_type": "execute_result",
          "data": {
            "text/plain": [
              "<matplotlib.axes._subplots.AxesSubplot at 0x7f2f881c6438>"
            ]
          },
          "metadata": {
            "tags": []
          },
          "execution_count": 171
        },
        {
          "output_type": "display_data",
          "data": {
            "image/png": "[encoded data removed]",
            "text/plain": [
              "<Figure size 432x288 with 2 Axes>"
            ]
          },
          "metadata": {
            "tags": [],
            "needs_background": "light"
          }
        }
      ]
    },
    {
      "cell_type": "code",
      "metadata": {
        "colab": {
          "base_uri": "https://localhost:8080/",
          "height": 295
        },
        "id": "CaiOYEgnYS2r",
        "outputId": "3d16c84c-f6f9-4ec5-8e67-52cf540c84c6"
      },
      "source": [
        "epochs = [i for i in range(1,21)]\n",
        "plt.plot(epochs, hist.history['categorical_accuracy'], hist.history['val_categorical_accuracy'])\n",
        "plt.legend(['Training', 'Test'])\n",
        "plt.title('Accuracy Measure over Epochs - VGG16')\n",
        "plt.xlabel('Epoch')\n",
        "plt.ylabel('Accuracy')\n",
        "plt.show()"
      ],
      "execution_count": null,
      "outputs": [
        {
          "output_type": "display_data",
          "data": {
            "image/png": "[encoded data removed]",
            "text/plain": [
              "<Figure size 432x288 with 1 Axes>"
            ]
          },
          "metadata": {
            "tags": [],
            "needs_background": "light"
          }
        }
      ]
    },
    {
      "cell_type": "code",
      "metadata": {
        "colab": {
          "base_uri": "https://localhost:8080/",
          "height": 295
        },
        "id": "Uiy2PfRyb0bl",
        "outputId": "fc7e7709-cff6-4857-fc8d-9abea3d9b2a4"
      },
      "source": [
        "plt.plot(epochs, hist.history['loss'], hist.history['val_loss'])\n",
        "plt.legend(['Training', 'Test'])\n",
        "plt.title('Error Measure over Epochs - VGG16')\n",
        "plt.xlabel('Epoch')\n",
        "plt.ylabel('Error')\n",
        "plt.show()"
      ],
      "execution_count": null,
      "outputs": [
        {
          "output_type": "display_data",
          "data": {
            "image/png": "[encoded data removed]",
            "text/plain": [
              "<Figure size 432x288 with 1 Axes>"
            ]
          },
          "metadata": {
            "tags": [],
            "needs_background": "light"
          }
        }
      ]
    },
    {
      "cell_type": "markdown",
      "metadata": {
        "id": "aCLWGmiW71Ad"
      },
      "source": [
        "# the same procedures can be applied to VGG19 or other CNN arcituectures\n"
      ]
    },
    {
      "cell_type": "code",
      "metadata": {
        "id": "BeBObE699eSe"
      },
      "source": [
        "# train_features, train_labels\n",
        "\n",
        "x_train_features = train_features.reshape(train_features.shape[0],-1)"
      ],
      "execution_count": null,
      "outputs": []
    },
    {
      "cell_type": "code",
      "metadata": {
        "id": "3phTppUwMDf8",
        "colab": {
          "base_uri": "https://localhost:8080/"
        },
        "outputId": "b34b2ac5-5099-4db3-a318-a7fd7cfe2d09"
      },
      "source": [
        "from keras.applications import VGG19\n",
        "vgg19_base = VGG19(weights='imagenet', include_top=False, input_shape=(IMG_W, IMG_H, 3))\n",
        "\n",
        "vgg19_base.summary()"
      ],
      "execution_count": null,
      "outputs": [
        {
          "output_type": "stream",
          "text": [
            "Downloading data from https://storage.googleapis.com/tensorflow/keras-applications/vgg19/vgg19_weights_tf_dim_ordering_tf_kernels_notop.h5\n",
            "80142336/80134624 [==============================] - 1s 0us/step\n",
            "Model: \"vgg19\"\n",
            "_________________________________________________________________\n",
            "Layer (type)                 Output Shape              Param #   \n",
            "=================================================================\n",
            "input_22 (InputLayer)        [(None, 224, 224, 3)]     0         \n",
            "_________________________________________________________________\n",
            "block1_conv1 (Conv2D)        (None, 224, 224, 64)      1792      \n",
            "_________________________________________________________________\n",
            "block1_conv2 (Conv2D)        (None, 224, 224, 64)      36928     \n",
            "_________________________________________________________________\n",
            "block1_pool (MaxPooling2D)   (None, 112, 112, 64)      0         \n",
            "_________________________________________________________________\n",
            "block2_conv1 (Conv2D)        (None, 112, 112, 128)     73856     \n",
            "_________________________________________________________________\n",
            "block2_conv2 (Conv2D)        (None, 112, 112, 128)     147584    \n",
            "_________________________________________________________________\n",
            "block2_pool (MaxPooling2D)   (None, 56, 56, 128)       0         \n",
            "_________________________________________________________________\n",
            "block3_conv1 (Conv2D)        (None, 56, 56, 256)       295168    \n",
            "_________________________________________________________________\n",
            "block3_conv2 (Conv2D)        (None, 56, 56, 256)       590080    \n",
            "_________________________________________________________________\n",
            "block3_conv3 (Conv2D)        (None, 56, 56, 256)       590080    \n",
            "_________________________________________________________________\n",
            "block3_conv4 (Conv2D)        (None, 56, 56, 256)       590080    \n",
            "_________________________________________________________________\n",
            "block3_pool (MaxPooling2D)   (None, 28, 28, 256)       0         \n",
            "_________________________________________________________________\n",
            "block4_conv1 (Conv2D)        (None, 28, 28, 512)       1180160   \n",
            "_________________________________________________________________\n",
            "block4_conv2 (Conv2D)        (None, 28, 28, 512)       2359808   \n",
            "_________________________________________________________________\n",
            "block4_conv3 (Conv2D)        (None, 28, 28, 512)       2359808   \n",
            "_________________________________________________________________\n",
            "block4_conv4 (Conv2D)        (None, 28, 28, 512)       2359808   \n",
            "_________________________________________________________________\n",
            "block4_pool (MaxPooling2D)   (None, 14, 14, 512)       0         \n",
            "_________________________________________________________________\n",
            "block5_conv1 (Conv2D)        (None, 14, 14, 512)       2359808   \n",
            "_________________________________________________________________\n",
            "block5_conv2 (Conv2D)        (None, 14, 14, 512)       2359808   \n",
            "_________________________________________________________________\n",
            "block5_conv3 (Conv2D)        (None, 14, 14, 512)       2359808   \n",
            "_________________________________________________________________\n",
            "block5_conv4 (Conv2D)        (None, 14, 14, 512)       2359808   \n",
            "_________________________________________________________________\n",
            "block5_pool (MaxPooling2D)   (None, 7, 7, 512)         0         \n",
            "=================================================================\n",
            "Total params: 20,024,384\n",
            "Trainable params: 20,024,384\n",
            "Non-trainable params: 0\n",
            "_________________________________________________________________\n"
          ],
          "name": "stdout"
        }
      ]
    },
    {
      "cell_type": "code",
      "metadata": {
        "id": "L75kchWMOFoc"
      },
      "source": [
        ""
      ],
      "execution_count": null,
      "outputs": []
    }
  ]
}