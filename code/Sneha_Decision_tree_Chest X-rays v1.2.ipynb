{
 "cells": [
  {
   "cell_type": "code",
   "execution_count": 1,
   "metadata": {},
   "outputs": [
    {
     "name": "stderr",
     "output_type": "stream",
     "text": [
      "/Users/sneha/opt/anaconda3/lib/python3.7/site-packages/tensorflow/python/framework/dtypes.py:516: FutureWarning: Passing (type, 1) or '1type' as a synonym of type is deprecated; in a future version of numpy, it will be understood as (type, (1,)) / '(1,)type'.\n",
      "  _np_qint8 = np.dtype([(\"qint8\", np.int8, 1)])\n",
      "/Users/sneha/opt/anaconda3/lib/python3.7/site-packages/tensorflow/python/framework/dtypes.py:517: FutureWarning: Passing (type, 1) or '1type' as a synonym of type is deprecated; in a future version of numpy, it will be understood as (type, (1,)) / '(1,)type'.\n",
      "  _np_quint8 = np.dtype([(\"quint8\", np.uint8, 1)])\n",
      "/Users/sneha/opt/anaconda3/lib/python3.7/site-packages/tensorflow/python/framework/dtypes.py:518: FutureWarning: Passing (type, 1) or '1type' as a synonym of type is deprecated; in a future version of numpy, it will be understood as (type, (1,)) / '(1,)type'.\n",
      "  _np_qint16 = np.dtype([(\"qint16\", np.int16, 1)])\n",
      "/Users/sneha/opt/anaconda3/lib/python3.7/site-packages/tensorflow/python/framework/dtypes.py:519: FutureWarning: Passing (type, 1) or '1type' as a synonym of type is deprecated; in a future version of numpy, it will be understood as (type, (1,)) / '(1,)type'.\n",
      "  _np_quint16 = np.dtype([(\"quint16\", np.uint16, 1)])\n",
      "/Users/sneha/opt/anaconda3/lib/python3.7/site-packages/tensorflow/python/framework/dtypes.py:520: FutureWarning: Passing (type, 1) or '1type' as a synonym of type is deprecated; in a future version of numpy, it will be understood as (type, (1,)) / '(1,)type'.\n",
      "  _np_qint32 = np.dtype([(\"qint32\", np.int32, 1)])\n",
      "/Users/sneha/opt/anaconda3/lib/python3.7/site-packages/tensorflow/python/framework/dtypes.py:525: FutureWarning: Passing (type, 1) or '1type' as a synonym of type is deprecated; in a future version of numpy, it will be understood as (type, (1,)) / '(1,)type'.\n",
      "  np_resource = np.dtype([(\"resource\", np.ubyte, 1)])\n",
      "/Users/sneha/opt/anaconda3/lib/python3.7/site-packages/tensorboard/compat/tensorflow_stub/dtypes.py:541: FutureWarning: Passing (type, 1) or '1type' as a synonym of type is deprecated; in a future version of numpy, it will be understood as (type, (1,)) / '(1,)type'.\n",
      "  _np_qint8 = np.dtype([(\"qint8\", np.int8, 1)])\n",
      "/Users/sneha/opt/anaconda3/lib/python3.7/site-packages/tensorboard/compat/tensorflow_stub/dtypes.py:542: FutureWarning: Passing (type, 1) or '1type' as a synonym of type is deprecated; in a future version of numpy, it will be understood as (type, (1,)) / '(1,)type'.\n",
      "  _np_quint8 = np.dtype([(\"quint8\", np.uint8, 1)])\n",
      "/Users/sneha/opt/anaconda3/lib/python3.7/site-packages/tensorboard/compat/tensorflow_stub/dtypes.py:543: FutureWarning: Passing (type, 1) or '1type' as a synonym of type is deprecated; in a future version of numpy, it will be understood as (type, (1,)) / '(1,)type'.\n",
      "  _np_qint16 = np.dtype([(\"qint16\", np.int16, 1)])\n",
      "/Users/sneha/opt/anaconda3/lib/python3.7/site-packages/tensorboard/compat/tensorflow_stub/dtypes.py:544: FutureWarning: Passing (type, 1) or '1type' as a synonym of type is deprecated; in a future version of numpy, it will be understood as (type, (1,)) / '(1,)type'.\n",
      "  _np_quint16 = np.dtype([(\"quint16\", np.uint16, 1)])\n",
      "/Users/sneha/opt/anaconda3/lib/python3.7/site-packages/tensorboard/compat/tensorflow_stub/dtypes.py:545: FutureWarning: Passing (type, 1) or '1type' as a synonym of type is deprecated; in a future version of numpy, it will be understood as (type, (1,)) / '(1,)type'.\n",
      "  _np_qint32 = np.dtype([(\"qint32\", np.int32, 1)])\n",
      "/Users/sneha/opt/anaconda3/lib/python3.7/site-packages/tensorboard/compat/tensorflow_stub/dtypes.py:550: FutureWarning: Passing (type, 1) or '1type' as a synonym of type is deprecated; in a future version of numpy, it will be understood as (type, (1,)) / '(1,)type'.\n",
      "  np_resource = np.dtype([(\"resource\", np.ubyte, 1)])\n",
      "Using TensorFlow backend.\n"
     ]
    }
   ],
   "source": [
    "import pandas as pd\n",
    "import numpy as np\n",
    "import tensorflow as tf\n",
    "import matplotlib.pyplot as plt\n",
    "from keras.models import Sequential\n",
    "from keras.layers import Convolution2D, MaxPooling2D, Flatten, Dense, Dropout, GlobalAveragePooling2D\n",
    "from keras.applications import VGG16\n",
    "from sklearn.tree import DecisionTreeClassifier\n",
    "from sklearn.model_selection import train_test_split\n",
    "from sklearn.metrics import classification_report, confusion_matrix\n",
    "from sklearn.model_selection import GridSearchCV\n",
    "import os, shutil\n",
    "from keras.preprocessing.image import ImageDataGenerator\n",
    "from sklearn.metrics import accuracy_score\n",
    "import seaborn as sns"
   ]
  },
  {
   "cell_type": "code",
   "execution_count": 2,
   "metadata": {},
   "outputs": [],
   "source": [
    "train_dir = '../Project Code/X-rays/train/'\n",
    "val_dir = '../Project Code/X-rays/val/'\n",
    "test_dir = '../Project Code/X-rays/test/'\n",
    "\n",
    "img_width, img_height = 224, 224  # Default input size for VGG16"
   ]
  },
  {
   "cell_type": "code",
   "execution_count": 3,
   "metadata": {},
   "outputs": [
    {
     "name": "stdout",
     "output_type": "stream",
     "text": [
      "WARNING:tensorflow:From /Users/sneha/opt/anaconda3/lib/python3.7/site-packages/keras/backend/tensorflow_backend.py:4070: The name tf.nn.max_pool is deprecated. Please use tf.nn.max_pool2d instead.\n",
      "\n",
      "Model: \"vgg16\"\n",
      "_________________________________________________________________\n",
      "Layer (type)                 Output Shape              Param #   \n",
      "=================================================================\n",
      "input_1 (InputLayer)         (None, 224, 224, 3)       0         \n",
      "_________________________________________________________________\n",
      "block1_conv1 (Conv2D)        (None, 224, 224, 64)      1792      \n",
      "_________________________________________________________________\n",
      "block1_conv2 (Conv2D)        (None, 224, 224, 64)      36928     \n",
      "_________________________________________________________________\n",
      "block1_pool (MaxPooling2D)   (None, 112, 112, 64)      0         \n",
      "_________________________________________________________________\n",
      "block2_conv1 (Conv2D)        (None, 112, 112, 128)     73856     \n",
      "_________________________________________________________________\n",
      "block2_conv2 (Conv2D)        (None, 112, 112, 128)     147584    \n",
      "_________________________________________________________________\n",
      "block2_pool (MaxPooling2D)   (None, 56, 56, 128)       0         \n",
      "_________________________________________________________________\n",
      "block3_conv1 (Conv2D)        (None, 56, 56, 256)       295168    \n",
      "_________________________________________________________________\n",
      "block3_conv2 (Conv2D)        (None, 56, 56, 256)       590080    \n",
      "_________________________________________________________________\n",
      "block3_conv3 (Conv2D)        (None, 56, 56, 256)       590080    \n",
      "_________________________________________________________________\n",
      "block3_pool (MaxPooling2D)   (None, 28, 28, 256)       0         \n",
      "_________________________________________________________________\n",
      "block4_conv1 (Conv2D)        (None, 28, 28, 512)       1180160   \n",
      "_________________________________________________________________\n",
      "block4_conv2 (Conv2D)        (None, 28, 28, 512)       2359808   \n",
      "_________________________________________________________________\n",
      "block4_conv3 (Conv2D)        (None, 28, 28, 512)       2359808   \n",
      "_________________________________________________________________\n",
      "block4_pool (MaxPooling2D)   (None, 14, 14, 512)       0         \n",
      "_________________________________________________________________\n",
      "block5_conv1 (Conv2D)        (None, 14, 14, 512)       2359808   \n",
      "_________________________________________________________________\n",
      "block5_conv2 (Conv2D)        (None, 14, 14, 512)       2359808   \n",
      "_________________________________________________________________\n",
      "block5_conv3 (Conv2D)        (None, 14, 14, 512)       2359808   \n",
      "_________________________________________________________________\n",
      "block5_pool (MaxPooling2D)   (None, 7, 7, 512)         0         \n",
      "=================================================================\n",
      "Total params: 14,714,688\n",
      "Trainable params: 14,714,688\n",
      "Non-trainable params: 0\n",
      "_________________________________________________________________\n"
     ]
    }
   ],
   "source": [
    "# Instantiate convolutional base\n",
    "\n",
    "conv_base = VGG16(weights='imagenet', \n",
    "                  include_top=False,\n",
    "                  input_shape=(img_width, img_height, 3))\n",
    "\n",
    "# Show architecture\n",
    "conv_base.summary()"
   ]
  },
  {
   "cell_type": "code",
   "execution_count": 4,
   "metadata": {},
   "outputs": [],
   "source": [
    "import os, shutil\n",
    "from keras.preprocessing.image import ImageDataGenerator\n"
   ]
  },
  {
   "cell_type": "code",
   "execution_count": 5,
   "metadata": {},
   "outputs": [],
   "source": [
    "#Defining function for feature extraction and label creation \n",
    "\n",
    "datagen = ImageDataGenerator(rescale=1./255)\n",
    "batch_size = 12\n",
    "\n",
    "def extract_features(directory, sample_count):\n",
    "    features = np.zeros(shape=(sample_count, 7, 7, 512))  # Must be equal to the output of the convolutional base\n",
    "    labels = np.zeros(shape=(sample_count,3))\n",
    "    # Preprocess data\n",
    "    generator = datagen.flow_from_directory(directory,\n",
    "                                            target_size=(img_width,img_height),\n",
    "                                            batch_size = batch_size,\n",
    "                                            class_mode='categorical')\n",
    "    \n",
    "    # Pass data through convolutional base\n",
    "    i = 0\n",
    "    for inputs_batch, labels_batch in generator:\n",
    "        features_batch = conv_base.predict(inputs_batch)\n",
    "        features[i * batch_size: (i + 1) * batch_size] = features_batch\n",
    "        labels[i * batch_size: (i + 1) * batch_size] = labels_batch\n",
    "        i += 1\n",
    "        if i * batch_size >= sample_count:\n",
    "            break\n",
    "    return features, labels\n",
    "    \n",
    "\n"
   ]
  },
  {
   "cell_type": "code",
   "execution_count": 6,
   "metadata": {},
   "outputs": [
    {
     "name": "stdout",
     "output_type": "stream",
     "text": [
      "Found 760 images belonging to 3 classes.\n",
      "WARNING:tensorflow:From /Users/sneha/opt/anaconda3/lib/python3.7/site-packages/keras/backend/tensorflow_backend.py:422: The name tf.global_variables is deprecated. Please use tf.compat.v1.global_variables instead.\n",
      "\n",
      "Found 95 images belonging to 3 classes.\n",
      "Found 95 images belonging to 3 classes.\n"
     ]
    }
   ],
   "source": [
    "#Calling the feature extraction function on the train, test and validation datasets\n",
    "#For running the training model, train_features would be X_train and train_labels would be y_train\n",
    "\n",
    "train_features, train_labels = extract_features(train_dir, 760)  # Total no.of files in train folder\n",
    "val_features, val_labels = extract_features(val_dir, 95)\n",
    "test_features, test_labels = extract_features(test_dir, 95)"
   ]
  },
  {
   "cell_type": "code",
   "execution_count": 7,
   "metadata": {},
   "outputs": [
    {
     "name": "stdout",
     "output_type": "stream",
     "text": [
      "(760, 7, 7, 512)\n",
      "(760, 3)\n",
      "(95, 7, 7, 512)\n"
     ]
    }
   ],
   "source": [
    "#print(train_labels[0],'\\n',train_labels[281],'\\n',train_labels[484])\n",
    "#print('\\n',train_features[0])\n",
    "\n",
    "print(train_features.shape)\n",
    "print(train_labels.shape)\n",
    "print(val_features.shape)\n"
   ]
  },
  {
   "cell_type": "code",
   "execution_count": 8,
   "metadata": {},
   "outputs": [],
   "source": [
    "from sklearn.tree import DecisionTreeClassifier\n",
    "from sklearn import tree\n",
    "\n",
    "import matplotlib.pyplot as plt"
   ]
  },
  {
   "cell_type": "code",
   "execution_count": 9,
   "metadata": {},
   "outputs": [],
   "source": [
    "#Decision Tree classifier initialization\n",
    "\n",
    "dt = tree.DecisionTreeClassifier(random_state=42)\n"
   ]
  },
  {
   "cell_type": "code",
   "execution_count": 10,
   "metadata": {},
   "outputs": [],
   "source": [
    "#Flattening the features extraction to run the DT as it expects array of <= 2 dimensions\n",
    "train_features_flatten = train_features.reshape((train_features.shape[0], 7 * 7 * 512))\n",
    "val_features_flatten = val_features.reshape((val_features.shape[0], 7 * 7 * 512))\n",
    "test_features_flatten = test_features.reshape((test_features.shape[0], 7 * 7 * 512))"
   ]
  },
  {
   "cell_type": "code",
   "execution_count": 11,
   "metadata": {},
   "outputs": [
    {
     "name": "stdout",
     "output_type": "stream",
     "text": [
      "(760, 25088)\n",
      "(95, 25088)\n",
      "(95, 25088)\n"
     ]
    }
   ],
   "source": [
    "#Shape of flattened features\n",
    "print(train_features_flatten.shape)\n",
    "print(val_features_flatten.shape)\n",
    "print(test_features_flatten.shape)"
   ]
  },
  {
   "cell_type": "code",
   "execution_count": 12,
   "metadata": {},
   "outputs": [
    {
     "data": {
      "text/plain": [
       "DecisionTreeClassifier(ccp_alpha=0.0, class_weight=None, criterion='gini',\n",
       "                       max_depth=None, max_features=None, max_leaf_nodes=None,\n",
       "                       min_impurity_decrease=0.0, min_impurity_split=None,\n",
       "                       min_samples_leaf=1, min_samples_split=2,\n",
       "                       min_weight_fraction_leaf=0.0, presort='deprecated',\n",
       "                       random_state=42, splitter='best')"
      ]
     },
     "execution_count": 12,
     "metadata": {},
     "output_type": "execute_result"
    }
   ],
   "source": [
    "#Training the DT model\n",
    "dt.fit(train_features_flatten, train_labels)"
   ]
  },
  {
   "cell_type": "code",
   "execution_count": 13,
   "metadata": {},
   "outputs": [
    {
     "name": "stdout",
     "output_type": "stream",
     "text": [
      "Leaf Node:  113\n",
      "Max Depth:  12\n",
      "Features:  25088\n",
      "Samples:  [760 218  55  45  28  21   7   4   3  17   2  15  10 163 159 157   1 156\n",
      "   2   4   1   3 542 307 249 189 183 174 164 161 158 156 153 152   1   3\n",
      "   1   2   2   1   1   3   3  10   5   5   2   3   9   7   2   6  60  34\n",
      "  29  26   3   5  26  23   3  58  11  10   1  47  38  34   4   3   1   9\n",
      "   4   1   3   5 235  23   6   4   2  17 212  42  28  25   1  24   3  14\n",
      "  12   2 170 161   6   1   5 155 151 148 144 142 141   1   2   4   1   3\n",
      "   3   4   9   7   2]\n"
     ]
    }
   ],
   "source": [
    "dt_nodes = dt.tree_.node_count\n",
    "dt_depth = dt.tree_.max_depth\n",
    "dt_features = dt.tree_.n_features\n",
    "dt_samples = dt.tree_.n_node_samples\n",
    "\n",
    "print('Leaf Node: ',dt_nodes)\n",
    "print('Max Depth: ',dt_depth)\n",
    "print('Features: ',dt_features)\n",
    "print('Samples: ',dt_samples)\n",
    "\n"
   ]
  },
  {
   "cell_type": "code",
   "execution_count": 14,
   "metadata": {},
   "outputs": [
    {
     "name": "stdout",
     "output_type": "stream",
     "text": [
      "\n",
      "\n",
      "Classification Matrix on Training Data:\n",
      "\n",
      "               precision    recall  f1-score   support\n",
      "\n",
      "           0       1.00      1.00      1.00       200\n",
      "           1       1.00      1.00      1.00       280\n",
      "           2       1.00      1.00      1.00       280\n",
      "\n",
      "   micro avg       1.00      1.00      1.00       760\n",
      "   macro avg       1.00      1.00      1.00       760\n",
      "weighted avg       1.00      1.00      1.00       760\n",
      " samples avg       1.00      1.00      1.00       760\n",
      "\n",
      "\n",
      "\n",
      "Accuracy on Training Data:  1.0\n"
     ]
    }
   ],
   "source": [
    "from sklearn.metrics import classification_report, confusion_matrix\n",
    "from sklearn.metrics import accuracy_score\n",
    "dt_train_pred = dt.predict(train_features_flatten)\n",
    "print(\"\\n\\nClassification Matrix on Training Data:\\n\\n\",classification_report(train_labels,dt_train_pred))\n",
    "print(\"\\n\\nAccuracy on Training Data: \", accuracy_score(train_labels,dt_train_pred))"
   ]
  },
  {
   "cell_type": "code",
   "execution_count": 15,
   "metadata": {},
   "outputs": [
    {
     "name": "stdout",
     "output_type": "stream",
     "text": [
      "\n",
      "\n",
      "Classification Matrix on Validation Data:\n",
      "\n",
      "               precision    recall  f1-score   support\n",
      "\n",
      "           0       0.93      1.00      0.96        25\n",
      "           1       0.67      0.63      0.65        35\n",
      "           2       0.63      0.63      0.63        35\n",
      "\n",
      "   micro avg       0.73      0.73      0.73        95\n",
      "   macro avg       0.74      0.75      0.75        95\n",
      "weighted avg       0.72      0.73      0.72        95\n",
      " samples avg       0.73      0.73      0.73        95\n",
      "\n",
      "\n",
      "\n",
      "Accuracy on Validation Data:  0.7263157894736842\n"
     ]
    }
   ],
   "source": [
    "dt_val_pred = dt.predict(val_features_flatten)\n",
    "print(\"\\n\\nClassification Matrix on Validation Data:\\n\\n\",classification_report(val_labels,dt_val_pred))\n",
    "print(\"\\n\\nAccuracy on Validation Data: \", accuracy_score(val_labels,dt_val_pred))"
   ]
  },
  {
   "cell_type": "code",
   "execution_count": 16,
   "metadata": {},
   "outputs": [
    {
     "name": "stdout",
     "output_type": "stream",
     "text": [
      "\n",
      "\n",
      "Classification Matrix on Testing Data:\n",
      "\n",
      "               precision    recall  f1-score   support\n",
      "\n",
      "           0       0.93      1.00      0.96        25\n",
      "           1       0.68      0.60      0.64        35\n",
      "           2       0.68      0.71      0.69        35\n",
      "\n",
      "   micro avg       0.75      0.75      0.75        95\n",
      "   macro avg       0.76      0.77      0.76        95\n",
      "weighted avg       0.74      0.75      0.74        95\n",
      " samples avg       0.75      0.75      0.75        95\n",
      "\n",
      "\n",
      "\n",
      "Accuracy on Testing Data:  0.7473684210526316\n"
     ]
    }
   ],
   "source": [
    "dt_test_pred = dt.predict(test_features_flatten)\n",
    "print(\"\\n\\nClassification Matrix on Testing Data:\\n\\n\",classification_report(test_labels,dt_test_pred))\n",
    "print(\"\\n\\nAccuracy on Testing Data: \", accuracy_score(test_labels,dt_test_pred))"
   ]
  },
  {
   "cell_type": "code",
   "execution_count": 17,
   "metadata": {},
   "outputs": [],
   "source": [
    "from sklearn.model_selection import GridSearchCV"
   ]
  },
  {
   "cell_type": "code",
   "execution_count": 24,
   "metadata": {},
   "outputs": [],
   "source": [
    "#Initializing Gridsearch1 for DT to find the optimum parameters\n",
    "\n",
    "dt1_GS = GridSearchCV(dt, param_grid={\"max_leaf_nodes\":[10,20,30,50,70,90,100,110,115]}, cv=5)"
   ]
  },
  {
   "cell_type": "code",
   "execution_count": 25,
   "metadata": {},
   "outputs": [
    {
     "data": {
      "text/plain": [
       "GridSearchCV(cv=5, error_score=nan,\n",
       "             estimator=DecisionTreeClassifier(ccp_alpha=0.0, class_weight=None,\n",
       "                                              criterion='gini', max_depth=None,\n",
       "                                              max_features=None,\n",
       "                                              max_leaf_nodes=None,\n",
       "                                              min_impurity_decrease=0.0,\n",
       "                                              min_impurity_split=None,\n",
       "                                              min_samples_leaf=1,\n",
       "                                              min_samples_split=2,\n",
       "                                              min_weight_fraction_leaf=0.0,\n",
       "                                              presort='deprecated',\n",
       "                                              random_state=42,\n",
       "                                              splitter='best'),\n",
       "             iid='deprecated', n_jobs=None,\n",
       "             param_grid={'max_leaf_nodes': [10, 20, 30, 50, 70, 90, 100, 110,\n",
       "                                            115]},\n",
       "             pre_dispatch='2*n_jobs', refit=True, return_train_score=False,\n",
       "             scoring=None, verbose=0)"
      ]
     },
     "execution_count": 25,
     "metadata": {},
     "output_type": "execute_result"
    }
   ],
   "source": [
    "dt1_GS.fit(train_features_flatten, train_labels)"
   ]
  },
  {
   "cell_type": "code",
   "execution_count": 26,
   "metadata": {},
   "outputs": [],
   "source": [
    "results_1 = pd.DataFrame(dt1_GS.cv_results_)"
   ]
  },
  {
   "cell_type": "code",
   "execution_count": 27,
   "metadata": {},
   "outputs": [
    {
     "name": "stdout",
     "output_type": "stream",
     "text": [
      "Best parameters of Grid Search 1:  {'max_leaf_nodes': 20} \n",
      "\n",
      "\n",
      "  param_max_leaf_nodes  mean_test_score  rank_test_score\n",
      "0                   10         0.671053                3\n",
      "1                   20         0.690789                1\n",
      "2                   30         0.675000                2\n",
      "3                   50         0.669737                4\n",
      "4                   70         0.669737                4\n",
      "5                   90         0.669737                4\n",
      "6                  100         0.669737                4\n",
      "7                  110         0.669737                4\n",
      "8                  115         0.669737                4\n"
     ]
    }
   ],
   "source": [
    "print(\"Best parameters of Grid Search 1: \", dt1_GS.best_params_,'\\n\\n')\n",
    "print(results_1[['param_max_leaf_nodes','mean_test_score','rank_test_score']])"
   ]
  },
  {
   "cell_type": "code",
   "execution_count": 28,
   "metadata": {},
   "outputs": [
    {
     "name": "stdout",
     "output_type": "stream",
     "text": [
      "[0.8236842105263158, 0.9013157894736842, 0.9368421052631579, 0.9881578947368421, 1.0, 1.0, 1.0, 1.0, 1.0] \n",
      " [0.7052631578947368, 0.7052631578947368, 0.7052631578947368, 0.6842105263157895, 0.7052631578947368, 0.7052631578947368, 0.7052631578947368, 0.7052631578947368, 0.7052631578947368]\n"
     ]
    }
   ],
   "source": [
    "#GridSearch 1 accuracy scores for Validation dataset\n",
    "max_leaf_nodes1=([10,20,30,50,70,90,100,110,115])\n",
    "acc_score_train1 = []\n",
    "acc_score_val1 = []\n",
    "for item in max_leaf_nodes1:\n",
    "    dt_prune = DecisionTreeClassifier(max_leaf_nodes = item, random_state = 42)\n",
    "    dt_prune.fit(train_features_flatten, train_labels)\n",
    "    train_labels_pred_prune = dt_prune.predict(train_features_flatten)\n",
    "    acc_score_train1.append(accuracy_score(train_labels, train_labels_pred_prune))\n",
    "    val_labels_pred_prune = dt_prune.predict(val_features_flatten)\n",
    "    acc_score_val1.append(accuracy_score(val_labels, val_labels_pred_prune))\n",
    "print(acc_score_train1,'\\n',acc_score_val1)"
   ]
  },
  {
   "cell_type": "code",
   "execution_count": 29,
   "metadata": {},
   "outputs": [
    {
     "data": {
      "image/png": "[encoded data removed]",
      "text/plain": [
       "<Figure size 432x288 with 1 Axes>"
      ]
     },
     "metadata": {
      "needs_background": "light"
     },
     "output_type": "display_data"
    }
   ],
   "source": [
    "#GridSearch1 accuarcy score plot for validation data set\n",
    "plt.plot(max_leaf_nodes1,acc_score_train1,'b-',max_leaf_nodes1,acc_score_val1,'r-')\n",
    "plt.xlabel('No. of maximum leaf nodes')\n",
    "plt.ylabel('Accuracy Score')\n",
    "plt.legend((\"Training data set\",\"Validation data set\",))\n",
    "plt.show()"
   ]
  },
  {
   "cell_type": "code",
   "execution_count": 30,
   "metadata": {},
   "outputs": [
    {
     "name": "stdout",
     "output_type": "stream",
     "text": [
      "[0.8236842105263158, 0.9013157894736842, 0.9368421052631579, 0.9881578947368421, 1.0, 1.0, 1.0, 1.0, 1.0] \n",
      " [0.7052631578947368, 0.7157894736842105, 0.7263157894736842, 0.7368421052631579, 0.7368421052631579, 0.7368421052631579, 0.7368421052631579, 0.7368421052631579, 0.7368421052631579]\n"
     ]
    }
   ],
   "source": [
    "#GridSearch 1 accuracy scores for Testing dataset\n",
    "max_leaf_nodes1=([10,20,30,50,70,90,100,110,115])\n",
    "acc_score_train1 = []\n",
    "acc_score_test1 = []\n",
    "for item in max_leaf_nodes1:\n",
    "    dt_prune = DecisionTreeClassifier(max_leaf_nodes = item, random_state = 42)\n",
    "    dt_prune.fit(train_features_flatten, train_labels)\n",
    "    train_labels_pred_prune = dt_prune.predict(train_features_flatten)\n",
    "    acc_score_train1.append(accuracy_score(train_labels, train_labels_pred_prune))\n",
    "    test_labels_pred_prune = dt_prune.predict(test_features_flatten)\n",
    "    acc_score_test1.append(accuracy_score(test_labels, test_labels_pred_prune))\n",
    "print(acc_score_train1,'\\n',acc_score_test1)"
   ]
  },
  {
   "cell_type": "code",
   "execution_count": 31,
   "metadata": {},
   "outputs": [
    {
     "data": {
      "image/png": "[encoded data removed]",
      "text/plain": [
       "<Figure size 432x288 with 1 Axes>"
      ]
     },
     "metadata": {
      "needs_background": "light"
     },
     "output_type": "display_data"
    }
   ],
   "source": [
    "#GridSearch1 accuarcy score plot for testing data set\n",
    "plt.plot(max_leaf_nodes1,acc_score_train1,'b-',max_leaf_nodes1,acc_score_test1,'r-')\n",
    "plt.xlabel('No. of maximum leaf nodes')\n",
    "plt.ylabel('Accuracy Score')\n",
    "plt.legend((\"Training data set\",\"Testing data set\",))\n",
    "plt.show()"
   ]
  },
  {
   "cell_type": "code",
   "execution_count": 38,
   "metadata": {},
   "outputs": [],
   "source": [
    "#Using GridSearch1's best results to predict training, validation and testing dataset\n",
    "train_labels_pred_GS = dt1_GS.predict(train_features_flatten)\n",
    "val_labels_pred_GS = dt1_GS.predict(val_features_flatten)\n",
    "test_labels_pred_GS = dt1_GS.predict(test_features_flatten)"
   ]
  },
  {
   "cell_type": "code",
   "execution_count": 39,
   "metadata": {},
   "outputs": [
    {
     "data": {
      "text/plain": [
       "<matplotlib.axes._subplots.AxesSubplot at 0x7f856746a250>"
      ]
     },
     "execution_count": 39,
     "metadata": {},
     "output_type": "execute_result"
    },
    {
     "data": {
      "image/png": "[encoded data removed]",
      "text/plain": [
       "<Figure size 432x288 with 2 Axes>"
      ]
     },
     "metadata": {
      "needs_background": "light"
     },
     "output_type": "display_data"
    }
   ],
   "source": [
    "#Confusion matrix plot for GridSearch1's best results on training data set\n",
    "#fig100 = plt.figure()\n",
    "# fig100 = plt.figure(figsize=(10,10))\n",
    "categories = ['COVID-19','Normal','Pneumonia']\n",
    "cm = confusion_matrix(train_labels.argmax(axis=1), train_labels_pred_GS.argmax(axis=1))\n",
    "#print(cm)\n",
    "sns.heatmap(cm, xticklabels =categories , yticklabels =categories, annot=True, fmt='d')"
   ]
  },
  {
   "cell_type": "code",
   "execution_count": 40,
   "metadata": {},
   "outputs": [
    {
     "data": {
      "text/plain": [
       "<matplotlib.axes._subplots.AxesSubplot at 0x7f856c7fd8d0>"
      ]
     },
     "execution_count": 40,
     "metadata": {},
     "output_type": "execute_result"
    },
    {
     "data": {
      "image/png": "[encoded data removed]",
      "text/plain": [
       "<Figure size 432x288 with 2 Axes>"
      ]
     },
     "metadata": {
      "needs_background": "light"
     },
     "output_type": "display_data"
    }
   ],
   "source": [
    "#Confusion matrix plot for GridSearch1's best results on validation data set\n",
    "\n",
    "categories = ['COVID-19','Normal','Pneumonia']\n",
    "cm = confusion_matrix(val_labels.argmax(axis=1), val_labels_pred_GS.argmax(axis=1))\n",
    "\n",
    "sns.heatmap(cm, xticklabels =categories , yticklabels =categories, annot=True, fmt='d')"
   ]
  },
  {
   "cell_type": "code",
   "execution_count": null,
   "metadata": {},
   "outputs": [],
   "source": []
  },
  {
   "cell_type": "code",
   "execution_count": 41,
   "metadata": {},
   "outputs": [
    {
     "data": {
      "text/plain": [
       "<matplotlib.axes._subplots.AxesSubplot at 0x7f856c948250>"
      ]
     },
     "execution_count": 41,
     "metadata": {},
     "output_type": "execute_result"
    },
    {
     "data": {
      "image/png": "[encoded data removed]",
      "text/plain": [
       "<Figure size 432x288 with 2 Axes>"
      ]
     },
     "metadata": {
      "needs_background": "light"
     },
     "output_type": "display_data"
    }
   ],
   "source": [
    "#Confusion matrix plot for GridSearch1's best results on testing data set\n",
    "\n",
    "categories = ['COVID-19','Normal','Pneumonia']\n",
    "cm = confusion_matrix(test_labels.argmax(axis=1), test_labels_pred_GS.argmax(axis=1))\n",
    "\n",
    "sns.heatmap(cm, xticklabels =categories , yticklabels =categories, annot=True, fmt='d')"
   ]
  },
  {
   "cell_type": "code",
   "execution_count": 32,
   "metadata": {},
   "outputs": [],
   "source": [
    "#Initializing Gridsearch2 for DT to find the optimum parameters\n",
    "\n",
    "dt_GS2 = GridSearchCV(dt, param_grid={\"max_leaf_nodes\":[None,5,10,20,40,50,70,90,100]}, cv=5)\n",
    "dt_GS2.fit(train_features_flatten, train_labels)\n",
    "results2 = pd.DataFrame(dt_GS2.cv_results_)"
   ]
  },
  {
   "cell_type": "code",
   "execution_count": 33,
   "metadata": {},
   "outputs": [
    {
     "name": "stdout",
     "output_type": "stream",
     "text": [
      "Best parameters:  {'max_leaf_nodes': 20} \n",
      "\n",
      "\n",
      "  param_max_leaf_nodes  mean_test_score  rank_test_score\n",
      "0                 None         0.686842                2\n",
      "1                    5         0.685526                3\n",
      "2                   10         0.671053                4\n",
      "3                   20         0.690789                1\n",
      "4                   40         0.664474                9\n",
      "5                   50         0.669737                5\n",
      "6                   70         0.669737                5\n",
      "7                   90         0.669737                5\n",
      "8                  100         0.669737                5\n"
     ]
    }
   ],
   "source": [
    "print(\"Best parameters: \", dt_GS2.best_params_,'\\n\\n')\n",
    "print(results2[['param_max_leaf_nodes','mean_test_score','rank_test_score']])"
   ]
  },
  {
   "cell_type": "code",
   "execution_count": 34,
   "metadata": {},
   "outputs": [
    {
     "name": "stdout",
     "output_type": "stream",
     "text": [
      "[1.0, 0.7118421052631579, 0.8236842105263158, 0.9013157894736842, 0.9736842105263158, 0.9881578947368421, 1.0, 1.0, 1.0] \n",
      " [0.7263157894736842, 0.6105263157894737, 0.7052631578947368, 0.7052631578947368, 0.6947368421052632, 0.6842105263157895, 0.7052631578947368, 0.7052631578947368, 0.7052631578947368]\n"
     ]
    }
   ],
   "source": [
    "#GridSearch 2 accuracy scores for Validation dataset\n",
    "\n",
    "max_leaf_nodes2=([None,5,10,20,40,50,70,90,100])\n",
    "acc_score_train2 = []\n",
    "acc_score_val2 = []\n",
    "for item in max_leaf_nodes2:\n",
    "    dt_prune = DecisionTreeClassifier(max_leaf_nodes = item, random_state = 42)\n",
    "    dt_prune.fit(train_features_flatten, train_labels)\n",
    "    train_labels_pred_prune = dt_prune.predict(train_features_flatten)\n",
    "    acc_score_train2.append(accuracy_score(train_labels, train_labels_pred_prune))\n",
    "    val_labels_pred_prune = dt_prune.predict(val_features_flatten)\n",
    "    acc_score_val2.append(accuracy_score(val_labels, val_labels_pred_prune))\n",
    "print(acc_score_train2,'\\n',acc_score_val2)"
   ]
  },
  {
   "cell_type": "code",
   "execution_count": 35,
   "metadata": {},
   "outputs": [
    {
     "data": {
      "image/png": "[encoded data removed]",
      "text/plain": [
       "<Figure size 432x288 with 1 Axes>"
      ]
     },
     "metadata": {
      "needs_background": "light"
     },
     "output_type": "display_data"
    }
   ],
   "source": [
    "#GridSearch2 accuarcy score plot for validation data set\n",
    "plt.plot(max_leaf_nodes2,acc_score_train2,'b-',max_leaf_nodes2,acc_score_val2,'r-')\n",
    "plt.xlabel('No. of maximum leaf nodes')\n",
    "plt.ylabel('Accuracy Score')\n",
    "plt.legend((\"Training data set\",\"Validation data set\",))\n",
    "plt.show()"
   ]
  },
  {
   "cell_type": "code",
   "execution_count": 36,
   "metadata": {},
   "outputs": [
    {
     "name": "stdout",
     "output_type": "stream",
     "text": [
      "[1.0, 0.7118421052631579, 0.8236842105263158, 0.9013157894736842, 0.9736842105263158, 0.9881578947368421, 1.0, 1.0, 1.0] \n",
      " [0.7473684210526316, 0.6631578947368421, 0.7052631578947368, 0.7157894736842105, 0.7368421052631579, 0.7368421052631579, 0.7368421052631579, 0.7368421052631579, 0.7368421052631579]\n"
     ]
    }
   ],
   "source": [
    "#GridSearch 2 accuracy scores for testing dataset\n",
    "\n",
    "max_leaf_nodes2=([None,5,10,20,40,50,70,90,100])\n",
    "acc_score_train2 = []\n",
    "acc_score_test2 = []\n",
    "for item in max_leaf_nodes2:\n",
    "    dt_prune = DecisionTreeClassifier(max_leaf_nodes = item, random_state = 42)\n",
    "    dt_prune.fit(train_features_flatten, train_labels)\n",
    "    train_labels_pred_prune = dt_prune.predict(train_features_flatten)\n",
    "    acc_score_train2.append(accuracy_score(train_labels, train_labels_pred_prune))\n",
    "    test_labels_pred_prune = dt_prune.predict(test_features_flatten)\n",
    "    acc_score_test2.append(accuracy_score(test_labels, test_labels_pred_prune))\n",
    "print(acc_score_train2,'\\n',acc_score_test2)"
   ]
  },
  {
   "cell_type": "code",
   "execution_count": 37,
   "metadata": {},
   "outputs": [
    {
     "data": {
      "image/png": "[encoded data removed]",
      "text/plain": [
       "<Figure size 432x288 with 1 Axes>"
      ]
     },
     "metadata": {
      "needs_background": "light"
     },
     "output_type": "display_data"
    }
   ],
   "source": [
    "#GridSearch2 accuarcy score plot for testing data set\n",
    "plt.plot(max_leaf_nodes2,acc_score_train2,'b-',max_leaf_nodes2,acc_score_test2,'r-')\n",
    "plt.xlabel('No. of maximum leaf nodes')\n",
    "plt.ylabel('Accuracy Score')\n",
    "plt.legend((\"Training data set\",\"Testing data set\",))\n",
    "plt.show()"
   ]
  },
  {
   "cell_type": "code",
   "execution_count": 43,
   "metadata": {},
   "outputs": [],
   "source": [
    "#Using GridSearch2's best results to predict training, validation and testing dataset\n",
    "train_labels_pred_GS2 = dt_GS2.predict(train_features_flatten)\n",
    "val_labels_pred_GS2 = dt_GS2.predict(val_features_flatten)\n",
    "test_labels_pred_GS2 = dt_GS2.predict(test_features_flatten)"
   ]
  },
  {
   "cell_type": "code",
   "execution_count": 44,
   "metadata": {},
   "outputs": [
    {
     "data": {
      "text/plain": [
       "<matplotlib.axes._subplots.AxesSubplot at 0x7f856cacaf50>"
      ]
     },
     "execution_count": 44,
     "metadata": {},
     "output_type": "execute_result"
    },
    {
     "data": {
      "image/png": "[encoded data removed]",
      "text/plain": [
       "<Figure size 432x288 with 2 Axes>"
      ]
     },
     "metadata": {
      "needs_background": "light"
     },
     "output_type": "display_data"
    }
   ],
   "source": [
    "#Confusion matrix plot for GridSearch2's best results on training data set\n",
    "\n",
    "categories = ['COVID-19','Normal','Pneumonia']\n",
    "cm = confusion_matrix(train_labels.argmax(axis=1), train_labels_pred_GS2.argmax(axis=1))\n",
    "\n",
    "sns.heatmap(cm, xticklabels =categories , yticklabels =categories, annot=True, fmt='d')"
   ]
  },
  {
   "cell_type": "code",
   "execution_count": 45,
   "metadata": {},
   "outputs": [
    {
     "data": {
      "text/plain": [
       "<matplotlib.axes._subplots.AxesSubplot at 0x7f856cd419d0>"
      ]
     },
     "execution_count": 45,
     "metadata": {},
     "output_type": "execute_result"
    },
    {
     "data": {
      "image/png": "[encoded data removed]",
      "text/plain": [
       "<Figure size 432x288 with 2 Axes>"
      ]
     },
     "metadata": {
      "needs_background": "light"
     },
     "output_type": "display_data"
    }
   ],
   "source": [
    "#Confusion matrix plot for GridSearch2's best results on validation data set\n",
    "\n",
    "categories = ['COVID-19','Normal','Pneumonia']\n",
    "cm = confusion_matrix(val_labels.argmax(axis=1), val_labels_pred_GS2.argmax(axis=1))\n",
    "\n",
    "sns.heatmap(cm, xticklabels =categories , yticklabels =categories, annot=True, fmt='d')"
   ]
  },
  {
   "cell_type": "code",
   "execution_count": 46,
   "metadata": {},
   "outputs": [
    {
     "data": {
      "text/plain": [
       "<matplotlib.axes._subplots.AxesSubplot at 0x7f856cd4f9d0>"
      ]
     },
     "execution_count": 46,
     "metadata": {},
     "output_type": "execute_result"
    },
    {
     "data": {
      "image/png": "[encoded data removed]",
      "text/plain": [
       "<Figure size 432x288 with 2 Axes>"
      ]
     },
     "metadata": {
      "needs_background": "light"
     },
     "output_type": "display_data"
    }
   ],
   "source": [
    "#Confusion matrix plot for GridSearch1's best results on testing data set\n",
    "\n",
    "categories = ['COVID-19','Normal','Pneumonia']\n",
    "cm = confusion_matrix(test_labels.argmax(axis=1), test_labels_pred_GS2.argmax(axis=1))\n",
    "\n",
    "sns.heatmap(cm, xticklabels =categories , yticklabels =categories, annot=True, fmt='d')"
   ]
  },
  {
   "cell_type": "code",
   "execution_count": 47,
   "metadata": {},
   "outputs": [
    {
     "name": "stdout",
     "output_type": "stream",
     "text": [
      "\n",
      "\n",
      "Classification Matrix on Training Data:\n",
      "\n",
      "               precision    recall  f1-score   support\n",
      "\n",
      "           0       0.93      0.94      0.94       200\n",
      "           1       0.89      0.89      0.89       280\n",
      "           2       0.89      0.88      0.89       280\n",
      "\n",
      "   micro avg       0.90      0.90      0.90       760\n",
      "   macro avg       0.90      0.90      0.90       760\n",
      "weighted avg       0.90      0.90      0.90       760\n",
      " samples avg       0.90      0.90      0.90       760\n",
      "\n",
      "\n",
      "\n",
      "Accuracy on Training Data:  0.9013157894736842\n",
      "\n",
      "\n",
      "Classification Matrix on Validation Data:\n",
      "\n",
      "               precision    recall  f1-score   support\n",
      "\n",
      "           0       0.88      0.88      0.88        25\n",
      "           1       0.63      0.74      0.68        35\n",
      "           2       0.66      0.54      0.59        35\n",
      "\n",
      "   micro avg       0.71      0.71      0.71        95\n",
      "   macro avg       0.72      0.72      0.72        95\n",
      "weighted avg       0.71      0.71      0.70        95\n",
      " samples avg       0.71      0.71      0.71        95\n",
      "\n",
      "\n",
      "\n",
      "Accuracy on Validation Data:  0.7052631578947368\n",
      "\n",
      "\n",
      "Classification Matrix on Testing Data:\n",
      "\n",
      "               precision    recall  f1-score   support\n",
      "\n",
      "           0       0.86      0.96      0.91        25\n",
      "           1       0.66      0.60      0.63        35\n",
      "           2       0.66      0.66      0.66        35\n",
      "\n",
      "   micro avg       0.72      0.72      0.72        95\n",
      "   macro avg       0.72      0.74      0.73        95\n",
      "weighted avg       0.71      0.72      0.71        95\n",
      " samples avg       0.72      0.72      0.72        95\n",
      "\n",
      "\n",
      "\n",
      "Accuracy on Testing Data:  0.7157894736842105\n"
     ]
    }
   ],
   "source": [
    "#Classification Report & Accuracy Scores on Grid Search 1 & 2 training, validation and testing data - same results can be used as the max leaf nodes returned is 20\n",
    "print(\"\\n\\nClassification Matrix on Training Data:\\n\\n\",classification_report(train_labels, train_labels_pred_GS))\n",
    "\n",
    "print(\"\\n\\nAccuracy on Training Data: \", accuracy_score(train_labels, train_labels_pred_GS))\n",
    "\n",
    "print(\"\\n\\nClassification Matrix on Validation Data:\\n\\n\",classification_report(val_labels, val_labels_pred_GS))\n",
    "\n",
    "print(\"\\n\\nAccuracy on Validation Data: \", accuracy_score(val_labels, val_labels_pred_GS))\n",
    "\n",
    "print(\"\\n\\nClassification Matrix on Testing Data:\\n\\n\",classification_report(test_labels, test_labels_pred_GS))\n",
    "\n",
    "print(\"\\n\\nAccuracy on Testing Data: \", accuracy_score(test_labels, test_labels_pred_GS))"
   ]
  },
  {
   "cell_type": "code",
   "execution_count": null,
   "metadata": {},
   "outputs": [],
   "source": []
  }
 ],
 "metadata": {
  "kernelspec": {
   "display_name": "Python 3",
   "language": "python",
   "name": "python3"
  },
  "language_info": {
   "codemirror_mode": {
    "name": "ipython",
    "version": 3
   },
   "file_extension": ".py",
   "mimetype": "text/x-python",
   "name": "python",
   "nbconvert_exporter": "python",
   "pygments_lexer": "ipython3",
   "version": "3.7.6"
  }
 },
 "nbformat": 4,
 "nbformat_minor": 4
}
